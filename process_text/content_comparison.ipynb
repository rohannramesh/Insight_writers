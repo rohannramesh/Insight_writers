{
 "cells": [
  {
   "cell_type": "code",
   "execution_count": 5,
   "metadata": {},
   "outputs": [],
   "source": [
    "import numpy as np\n",
    "from IPython.core.debugger import set_trace\n",
    "import re\n",
    "import difflib\n",
    "import pandas as pd\n",
    "import matplotlib.pyplot as plt\n",
    "from bs4 import BeautifulSoup\n",
    "import requests\n",
    "import time\n",
    "import random\n",
    "import pickle\n",
    "from lxml.html import fromstring\n",
    "from collections import Counter\n",
    "from requests.packages.urllib3.util import Retry\n",
    "from requests.adapters import HTTPAdapter\n",
    "from requests import Session, exceptions\n",
    "import sys\n",
    "import pymongo\n",
    "from pymongo import MongoClient\n",
    "from newspaper import Article\n",
    "import json\n",
    "from string import digits\n",
    "from nltk.tokenize import sent_tokenize, word_tokenize\n",
    "import nltk\n",
    "from nltk.stem.porter import *\n",
    "from collections import Counter \n",
    "from nltk.corpus import wordnet # To get words in dictionary with their parts of speech\n",
    "from nltk.stem import WordNetLemmatizer # lemmatizes word based on it's parts of speech\n",
    "from nltk.corpus import stopwords \n",
    "from textblob import TextBlob\n",
    "import spacy\n",
    "from vaderSentiment.vaderSentiment import SentimentIntensityAnalyzer\n",
    "from nltk.corpus import cmudict\n",
    "from sklearn.feature_extraction.text import TfidfVectorizer"
   ]
  },
  {
   "cell_type": "code",
   "execution_count": 2,
   "metadata": {},
   "outputs": [],
   "source": [
    "# data load from muckrack\n",
    "with open('/Users/rohanramesh/Documents/Insight/data_bball_writers/Attempt3_mr_scrape.pickle', 'rb') as handle:\n",
    "    scrapevar = pickle.load(handle)\n",
    "    \n",
    "# load writer df\n",
    "with open('/Users/rohanramesh/Documents/Insight/data_bball_writers/writer_df.pickle', 'rb') as handle:\n",
    "    writer_df = pickle.load(handle)"
   ]
  },
  {
   "cell_type": "code",
   "execution_count": 3,
   "metadata": {},
   "outputs": [],
   "source": [
    "# Establish connection with database\n",
    "client = MongoClient()\n",
    "mydb = client[\"testinsightdb\"]"
   ]
  },
  {
   "cell_type": "code",
   "execution_count": 27,
   "metadata": {},
   "outputs": [],
   "source": [
    "currcol = mydb['zachlowe_nba']\n",
    "y = currcol.find({\"name\": 'zachlowe_nba'})\n",
    "currcol = mydb['timkawakami']\n",
    "t = currcol.find({\"name\": 'timkawakami'})\n",
    "# print(y[0]['article'])"
   ]
  },
  {
   "cell_type": "code",
   "execution_count": 32,
   "metadata": {},
   "outputs": [],
   "source": [
    "def clean_text(txtstr):\n",
    "    txtstr = re.sub(r'\\n\\s*\\n', '', txtstr) # extra lines\n",
    "    txtstr = re.sub(r'[^\\w\\s]','',txtstr) # punctuation\n",
    "    # for numbers\n",
    "#     txtstr = re.sub(r'[^A-Za-z0-9(),!?@\\'\\`\\\"\\_\\n]', ' ', txtstr)\n",
    "#     txtstr = re.sub(r'\\w*\\d\\w*','',txtstr) # words with number plust letters\n",
    "#     remove_digits = str.maketrans('', '', digits)\n",
    "#     txtstr = txtstr.translate(remove_digits)\n",
    "    txtstr = re.sub(' +',' ',txtstr) # extra white spaces\n",
    "    txtstr = txtstr.lower()\n",
    "    return txtstr"
   ]
  },
  {
   "cell_type": "code",
   "execution_count": 36,
   "metadata": {},
   "outputs": [
    {
     "data": {
      "text/plain": [
       "TfidfVectorizer(analyzer='word', binary=False, decode_error='strict',\n",
       "        dtype=<class 'numpy.int64'>, encoding='utf-8', input='content',\n",
       "        lowercase=True, max_df=1.0, max_features=None, min_df=1,\n",
       "        ngram_range=(1, 1), norm='l2', preprocessor=None, smooth_idf=True,\n",
       "        stop_words=None, strip_accents=None, sublinear_tf=False,\n",
       "        token_pattern='(?u)\\\\b\\\\w\\\\w+\\\\b', tokenizer=None, use_idf=True,\n",
       "        vocabulary=None)"
      ]
     },
     "execution_count": 36,
     "metadata": {},
     "output_type": "execute_result"
    }
   ],
   "source": [
    "vec = TfidfVectorizer()\n",
    "vec.fit([clean_text(y[0]['article']), clean_text(y[1]['article']), clean_text(t[1]['article'])])"
   ]
  },
  {
   "cell_type": "code",
   "execution_count": 44,
   "metadata": {},
   "outputs": [
    {
     "name": "stdout",
     "output_type": "stream",
     "text": [
      "(1, 1415)\n",
      "(1, 1415)\n",
      "(1, 1415)\n"
     ]
    }
   ],
   "source": [
    "vector1 = vec.transform([clean_text(y[0]['article'])])\n",
    "vector2 = vec.transform([clean_text(y[15]['article'])])\n",
    "vector3 = vec.transform([clean_text(t[1]['article'])])\n",
    "print(np.shape(vector1))\n",
    "print(np.shape(vector2))\n",
    "print(np.shape(vector3))"
   ]
  },
  {
   "cell_type": "code",
   "execution_count": 45,
   "metadata": {},
   "outputs": [
    {
     "name": "stdout",
     "output_type": "stream",
     "text": [
      "[[0.89821625]]\n",
      "[[0.5884013]]\n"
     ]
    }
   ],
   "source": [
    "from sklearn.metrics.pairwise import cosine_similarity\n",
    "\n",
    "result1 = cosine_similarity(vector1, vector2)\n",
    "result2 = cosine_similarity(vector1, vector3)\n",
    "print(result1)\n",
    "print(result2)"
   ]
  },
  {
   "cell_type": "code",
   "execution_count": 17,
   "metadata": {},
   "outputs": [
    {
     "name": "stdout",
     "output_type": "stream",
     "text": [
      "{'the': 7, 'quick': 6, 'brown': 0, 'fox': 2, 'jumped': 3, 'over': 5, 'lazy': 4, 'dog': 1}\n",
      "[1.69314718 1.28768207 1.28768207 1.69314718 1.69314718 1.69314718\n",
      " 1.69314718 1.        ]\n",
      "(1, 8)\n",
      "[[0.36388646 0.27674503 0.27674503 0.36388646 0.36388646 0.36388646\n",
      "  0.36388646 0.42983441]]\n"
     ]
    }
   ],
   "source": [
    "text = [\"The quick brown fox jumped over the lazy dog.\",\n",
    "    \"The dog.\",\n",
    "    \"The fox\"]\n",
    "# create the transform\n",
    "vectorizer = TfidfVectorizer()\n",
    "# tokenize and build vocab\n",
    "vectorizer.fit(text)\n",
    "# summarize\n",
    "print(vectorizer.vocabulary_)\n",
    "print(vectorizer.idf_)\n",
    "# encode document\n",
    "vector = vectorizer.transform([text[0]])\n",
    "# summarize encoded vector\n",
    "print(vector.shape)\n",
    "print(vector.toarray())"
   ]
  },
  {
   "cell_type": "code",
   "execution_count": 48,
   "metadata": {},
   "outputs": [
    {
     "name": "stdout",
     "output_type": "stream",
     "text": [
      "zachlowe_nba\n",
      "breaking\n",
      "adrian-wojnarowski\n",
      "breaking\n",
      "lee-jenkins\n",
      "breaking\n",
      "howardbeck\n",
      "breaking\n",
      "marc-stein\n",
      "breaking\n",
      "ethan-sherwood-strauss\n",
      "breaking\n",
      "jason-concepcion\n",
      "breaking\n",
      "kevin-arnovitz\n",
      "breaking\n",
      "tom-haberstroh\n",
      "breaking\n",
      "nate-duncan\n",
      "breaking\n",
      "zach-harper\n",
      "breaking\n",
      "brian-windhorst\n",
      "breaking\n",
      "sam_amick\n",
      "breaking\n",
      "david-aldridge\n",
      "breaking\n",
      "ramona-shelburne\n",
      "breaking\n",
      "jpdabrams\n",
      "breaking\n",
      "kevin-pelton\n",
      "breaking\n",
      "marc-j-spears\n",
      "breaking\n",
      "matt-moore\n",
      "breaking\n",
      "shams-charania\n",
      "breaking\n",
      "kevin-p-oconnor\n",
      "breaking\n",
      "chris-haynes\n",
      "breaking\n",
      "dave-mcmenamin\n",
      "breaking\n",
      "shea-serrano\n",
      "breaking\n",
      "ian-begley\n",
      "breaking\n",
      "rachel-nichols\n",
      "breaking\n",
      "ben-golliver\n",
      "breaking\n",
      "mike-prada\n",
      "breaking\n",
      "robmahoney\n",
      "breaking\n",
      "tim-macmahon\n",
      "breaking\n",
      "chris-herring\n",
      "breaking\n",
      "billsimmons\n",
      "breaking\n",
      "jonathan-tjarks\n",
      "breaking\n",
      "amin-elhassen\n",
      "bobby-marks\n",
      "breaking\n",
      "danny-leroux\n",
      "breaking\n",
      "chris-mannix\n",
      "breaking\n",
      "dan-devine\n",
      "breaking\n",
      "michael-pina\n",
      "breaking\n",
      "thompsonscribe\n",
      "breaking\n",
      "ben-golliver\n",
      "breaking\n",
      "ben-falk\n",
      "breaking\n",
      "ian-levy\n",
      "breaking\n",
      "tim-bontemps\n",
      "breaking\n",
      "henry-abbott\n",
      "breaking\n",
      "scott-rafferty\n",
      "breaking\n",
      "ja-dubin\n",
      "michael-lee\n",
      "breaking\n",
      "alex-kennedy\n",
      "breaking\n",
      "derek-bodner\n",
      "breaking\n",
      "tom-ziller\n",
      "breaking\n",
      "chris-ballard\n",
      "breaking\n",
      "josh-eberley\n",
      "breaking\n",
      "adi-joseph\n",
      "breaking\n",
      "adam-mares\n",
      "breaking\n",
      "sam-vecenie\n",
      "breaking\n",
      "meet-katie-nolan\n",
      "andrew-sharp\n",
      "breaking\n",
      "david-thorpe\n",
      "breaking\n",
      "royce-webb\n",
      "ericpincus\n",
      "breaking\n",
      "nick-sciria\n",
      "breaking\n",
      "paul-flannery\n",
      "breaking\n",
      "timkawakami\n",
      "breaking\n",
      "keith-smith\n",
      "breaking\n",
      "joshrobbins\n",
      "breaking\n",
      "jeff-zillgitt\n",
      "jon-krawczynski\n",
      "seerat-sohi\n",
      "breaking\n",
      "israel-gutierrez\n",
      "breaking\n",
      "ben-rohrbach\n",
      "breaking\n",
      "mika-honkasalo\n",
      "breaking\n",
      "ian-oconnor-1027184\n",
      "breaking\n",
      "kevin-ferrigan\n",
      "breaking\n",
      "chris-vernon\n",
      "breaking\n",
      "trevor-magnotti\n",
      "breaking\n",
      "mark-deeks\n",
      "breaking\n",
      "ken-berger\n",
      "breaking\n",
      "beckley-mason\n",
      "bob-ryan\n",
      "neil-paine\n",
      "breaking\n",
      "jeff-siegel\n",
      "breaking\n",
      "sam-amico\n",
      "breaking\n",
      "mason-ginsberg\n",
      "breaking\n",
      "britt-robson\n",
      "breaking\n",
      "holly-mackenzie\n",
      "breaking\n",
      "blake-murphy\n",
      "breaking\n",
      "sam-esfandiari\n",
      "jade-hoye\n",
      "michael-grange\n",
      "breaking\n",
      "ric-bucher\n",
      "kevin-parrish\n",
      "breaking\n",
      "jared-zwerling\n",
      "breaking\n",
      "frank-isola\n",
      "breaking\n",
      "kacy-sager\n",
      "austin-hutchinson\n",
      "breaking\n",
      "senthil-natarajan\n",
      "kaileigh-brandt\n",
      "trill-withers\n",
      "krishna-narsu\n",
      "breaking\n",
      "chris-bernucca\n",
      "breaking\n",
      "chris-sheridan\n",
      "breaking\n",
      "scott-cacciola\n",
      "albert-nahmad\n",
      "showardcooper\n",
      "breaking\n",
      "james-holas\n",
      "breaking\n",
      "brady-klopfer\n",
      "breaking\n",
      "josh-eberley\n",
      "breaking\n",
      "rory-masterson\n",
      "breaking\n",
      "grant-afseth\n",
      "breaking\n",
      "rob-lopez\n",
      "breaking\n",
      "justin-willard\n",
      "breaking\n",
      "justin-hodges\n",
      "breaking\n",
      "christian-rivas\n",
      "breaking\n",
      "andrew-bernucca\n",
      "breaking\n",
      "steve-kyler\n",
      "breaking\n",
      "david-morrow\n",
      "austin-green\n",
      "breaking\n",
      "mike-brady\n",
      "breaking\n",
      "peter-vecsey\n",
      "rob-scott\n",
      "breaking\n",
      "paolo-uggetti\n",
      "breaking\n",
      "coley-mick\n",
      "noah-torr\n",
      "breaking\n",
      "george-rowland\n",
      "editor-dan\n",
      "dennis-chambers\n",
      "breaking\n",
      "chris_broussard\n",
      "breaking\n",
      "justin-jett\n",
      "breaking\n",
      "jimmy-spencer\n",
      "tevin-williams\n",
      "ti-windisch\n",
      "glory-okoli\n",
      "aaron-bruski\n",
      "paul-centopani\n",
      "stephen-a-smith\n",
      "andré-voigt\n",
      "skip-bayless\n",
      "seb-dumitru\n"
     ]
    }
   ],
   "source": [
    "data_into_tfidf = []\n",
    "for curr_name in writer_df['website_name']:\n",
    "    currcol = mydb[curr_name]\n",
    "    print(curr_name)\n",
    "    y = currcol.find({\"name\": curr_name})\n",
    "    # iterate through all articles for that author\n",
    "    idx = 1\n",
    "    for curr_art in y:\n",
    "        data_into_tfidf.append(clean_text(curr_art['article']))\n",
    "        idx += 1\n",
    "        if idx > 10:\n",
    "            print('breaking')\n",
    "            break"
   ]
  },
  {
   "cell_type": "code",
   "execution_count": 49,
   "metadata": {},
   "outputs": [
    {
     "data": {
      "text/plain": [
       "1088"
      ]
     },
     "execution_count": 49,
     "metadata": {},
     "output_type": "execute_result"
    }
   ],
   "source": [
    "len(data_into_tfidf)"
   ]
  },
  {
   "cell_type": "code",
   "execution_count": 51,
   "metadata": {},
   "outputs": [
    {
     "data": {
      "text/plain": [
       "TfidfVectorizer(analyzer='word', binary=False, decode_error='strict',\n",
       "        dtype=<class 'numpy.int64'>, encoding='utf-8', input='content',\n",
       "        lowercase=True, max_df=1.0, max_features=None, min_df=1,\n",
       "        ngram_range=(1, 1), norm='l2', preprocessor=None, smooth_idf=True,\n",
       "        stop_words=None, strip_accents=None, sublinear_tf=False,\n",
       "        token_pattern='(?u)\\\\b\\\\w\\\\w+\\\\b', tokenizer=None, use_idf=True,\n",
       "        vocabulary=None)"
      ]
     },
     "execution_count": 51,
     "metadata": {},
     "output_type": "execute_result"
    }
   ],
   "source": [
    "vec = TfidfVectorizer()\n",
    "vec.fit(data_into_tfidf)"
   ]
  },
  {
   "cell_type": "code",
   "execution_count": 53,
   "metadata": {},
   "outputs": [],
   "source": [
    "# create vector of each article\n",
    "output_vec_tf = []\n",
    "for curr_art in data_into_tfidf:\n",
    "    output_vec_tf.append(vec.transform([curr_art]))\n"
   ]
  },
  {
   "cell_type": "code",
   "execution_count": 76,
   "metadata": {},
   "outputs": [],
   "source": [
    "nvals = 150\n",
    "matsim = np.ndarray(shape=(nvals,nvals))\n",
    "for i in range(0,nvals):\n",
    "    for j in range(0,nvals):\n",
    "        result1 = cosine_similarity(output_vec_tf[i], output_vec_tf[j])\n",
    "        matsim[i, j] = result1[0][0]"
   ]
  },
  {
   "cell_type": "code",
   "execution_count": 77,
   "metadata": {},
   "outputs": [
    {
     "data": {
      "text/plain": [
       "<matplotlib.image.AxesImage at 0x1a1977b3c8>"
      ]
     },
     "execution_count": 77,
     "metadata": {},
     "output_type": "execute_result"
    },
    {
     "data": {
      "image/png": "[encoded data removed]",
      "text/plain": [
       "<Figure size 432x288 with 1 Axes>"
      ]
     },
     "metadata": {
      "needs_background": "light"
     },
     "output_type": "display_data"
    }
   ],
   "source": [
    "plt.figure\n",
    "plt.imshow(matsim)"
   ]
  },
  {
   "cell_type": "code",
   "execution_count": null,
   "metadata": {},
   "outputs": [],
   "source": []
  }
 ],
 "metadata": {
  "kernelspec": {
   "display_name": "Python 3",
   "language": "python",
   "name": "python3"
  },
  "language_info": {
   "codemirror_mode": {
    "name": "ipython",
    "version": 3
   },
   "file_extension": ".py",
   "mimetype": "text/x-python",
   "name": "python",
   "nbconvert_exporter": "python",
   "pygments_lexer": "ipython3",
   "version": "3.6.6"
  }
 },
 "nbformat": 4,
 "nbformat_minor": 2
}
