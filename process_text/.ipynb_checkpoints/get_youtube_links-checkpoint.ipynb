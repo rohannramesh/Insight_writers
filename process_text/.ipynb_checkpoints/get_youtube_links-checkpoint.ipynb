{
 "cells": [
  {
   "cell_type": "code",
   "execution_count": 1,
   "metadata": {},
   "outputs": [],
   "source": [
    "from apiclient.discovery import build\n",
    "from apiclient.errors import HttpError\n",
    "import numpy as np\n",
    "from IPython.core.debugger import set_trace\n",
    "import re\n",
    "import difflib\n",
    "import pandas as pd\n",
    "import matplotlib.pyplot as plt\n",
    "from bs4 import BeautifulSoup\n",
    "import requests\n",
    "import time\n",
    "import random\n",
    "import pickle\n",
    "from lxml.html import fromstring\n",
    "from collections import Counter\n",
    "from requests.packages.urllib3.util import Retry\n",
    "from requests.adapters import HTTPAdapter\n",
    "from requests import Session, exceptions\n",
    "import sys\n",
    "import pymongo\n",
    "from pymongo import MongoClient\n",
    "from newspaper import Article\n",
    "import json\n",
    "from string import digits\n",
    "from nltk.tokenize import sent_tokenize, word_tokenize\n",
    "import nltk\n",
    "from nltk.stem.porter import *\n",
    "from collections import Counter \n",
    "from nltk.corpus import wordnet # To get words in dictionary with their parts of speech\n",
    "from nltk.stem import WordNetLemmatizer # lemmatizes word based on it's parts of speech\n",
    "from nltk.corpus import stopwords \n",
    "from textblob import TextBlob\n",
    "import spacy\n",
    "from vaderSentiment.vaderSentiment import SentimentIntensityAnalyzer\n",
    "from nltk.corpus import cmudict\n",
    "from sklearn.feature_extraction.text import TfidfVectorizer\n",
    "import gensim\n",
    "from langdetect import detect\n",
    "from numpy import dot\n",
    "from numpy.linalg import norm\n",
    "import spacy\n",
    "from spacy import displacy\n",
    "from collections import Counter\n",
    "import en_core_web_sm\n",
    "sys.path.append(\"/Users/rohanramesh/Documents/GitHub/Insight_writers/lib/\")\n",
    "from text_processing import ProcessArticle as pa\n",
    "import suggestions as s"
   ]
  },
  {
   "cell_type": "code",
   "execution_count": 47,
   "metadata": {},
   "outputs": [],
   "source": [
    "# Establish connection with database\n",
    "client = MongoClient()\n",
    "mydb = client[\"testinsightdb\"]"
   ]
  },
  {
   "cell_type": "code",
   "execution_count": 2,
   "metadata": {},
   "outputs": [],
   "source": [
    "# grab config file\n",
    "# keys[0] apple, keys[1] listen notes\n",
    "path_teams = '/Users/rohanramesh/Documents/Insight/data_bball_writers/config.txt'\n",
    "with open(path_teams, 'r') as f:\n",
    "    tmp = f.readlines()\n",
    "keys = [i.rstrip() for i in tmp]"
   ]
  },
  {
   "cell_type": "code",
   "execution_count": 3,
   "metadata": {},
   "outputs": [],
   "source": [
    "DEVELOPER_KEY = keys[0]\n",
    "YOUTUBE_API_SERVICE_NAME = \"youtube\"\n",
    "YOUTUBE_API_VERSION = \"v3\"\n",
    "youtube = build(YOUTUBE_API_SERVICE_NAME, YOUTUBE_API_VERSION,developerKey=DEVELOPER_KEY)"
   ]
  },
  {
   "cell_type": "code",
   "execution_count": 6,
   "metadata": {},
   "outputs": [],
   "source": [
    "def get_video_id(q, max_results,token, order=\"relevance\", \n",
    "                 location=None, location_radius=None):\n",
    "\n",
    "    search_response = youtube.search().list(\n",
    "        q=q, type=\"video\", pageToken=token,part=\"id,snippet\", \n",
    "        maxResults=max_results, location=location, \n",
    "        locationRadius=location_radius, safeSearch = 'strict').execute()\n",
    "    videoId = []\n",
    "    title = []\n",
    "    description = []\n",
    "    statistics = []\n",
    "    embed_url = []\n",
    "    tok = search_response['nextPageToken']\n",
    "\n",
    "    for search_result in search_response.get(\"items\", []):\n",
    "        if search_result[\"id\"][\"kind\"] == \"youtube#video\":\n",
    "            title.append(search_result['snippet']['title'])\n",
    "            videoId.append(search_result['id']['videoId'])\n",
    "            response = youtube.videos().list(part='statistics, snippet, player', \n",
    "                                 id=search_result['id']['videoId']\n",
    "                                ).execute()\n",
    "            description.append(response['items'][0]['snippet']['description'])\n",
    "            statistics.append(response['items'][0]['statistics'])\n",
    "            embed_url.append(response['items'][0]['player']['embedHtml'])\n",
    "            \n",
    "    ydict = {'title':title,'videoId':videoId,\n",
    "              'description':description,'stats':statistics,\n",
    "             'embed_url':embed_url}\n",
    "    return ydict, tok"
   ]
  },
  {
   "cell_type": "code",
   "execution_count": 50,
   "metadata": {},
   "outputs": [],
   "source": [
    "search_vals = 'Lebron lakers'\n",
    "a,b = get_video_id(search_vals, 1, None)"
   ]
  },
  {
   "cell_type": "code",
   "execution_count": 27,
   "metadata": {},
   "outputs": [
    {
     "data": {
      "text/plain": [
       "['<iframe width=\"480\" height=\"270\" src=\"//www.youtube.com/embed/o1BrK2KWifc\" frameborder=\"0\" allow=\"autoplay; encrypted-media\" allowfullscreen></iframe>']"
      ]
     },
     "execution_count": 27,
     "metadata": {},
     "output_type": "execute_result"
    }
   ],
   "source": [
    "embed_url"
   ]
  },
  {
   "cell_type": "code",
   "execution_count": 25,
   "metadata": {},
   "outputs": [
    {
     "data": {
      "text/plain": [
       "{'embedHtml': '<iframe width=\"480\" height=\"270\" src=\"//www.youtube.com/embed/o1BrK2KWifc\" frameborder=\"0\" allow=\"autoplay; encrypted-media\" allowfullscreen></iframe>'}"
      ]
     },
     "execution_count": 25,
     "metadata": {},
     "output_type": "execute_result"
    }
   ],
   "source": [
    "response['items'][0]['player']['embedHtml']"
   ]
  },
  {
   "cell_type": "code",
   "execution_count": 24,
   "metadata": {},
   "outputs": [
    {
     "data": {
      "text/plain": [
       "{'viewCount': '632185',\n",
       " 'likeCount': '8312',\n",
       " 'dislikeCount': '388',\n",
       " 'favoriteCount': '0',\n",
       " 'commentCount': '2706'}"
      ]
     },
     "execution_count": 24,
     "metadata": {},
     "output_type": "execute_result"
    }
   ],
   "source": [
    "response['items'][0]['statistics']"
   ]
  },
  {
   "cell_type": "code",
   "execution_count": 37,
   "metadata": {},
   "outputs": [],
   "source": []
  },
  {
   "cell_type": "code",
   "execution_count": 97,
   "metadata": {},
   "outputs": [],
   "source": [
    "# initialize spacy and load team names for named entity recognition\n",
    "nlp = en_core_web_sm.load()\n",
    "# team names\n",
    "path_teams = '/Users/rohanramesh/Documents/GitHub/Insight_writers/DashApp/assets/nba-teams.txt'\n",
    "with open(path_teams, 'r') as f:\n",
    "    tmp = f.readlines()\n",
    "team_names = [i.rstrip() for i in tmp]\n",
    "\n",
    "def get_search_terms(string=None, team_names=None):\n",
    "    doc = nlp(string)\n",
    "    a = [i.text for i in doc.ents if (i.label_ == 'PERSON') | (i.label_ == 'GPE')]\n",
    "    # iterate through each word in string and compare to team_names if any hits then keep\n",
    "    if team_names is not None:\n",
    "        tokens = word_tokenize(string)\n",
    "        for i in tokens:\n",
    "            if not difflib.get_close_matches(i,team_names, n=1):\n",
    "                continue\n",
    "            else:\n",
    "                m = difflib.get_close_matches(i,team_names, n=1)[0]\n",
    "            a.append(m)\n",
    "    # now turn to normal string\n",
    "    input_search = ['']\n",
    "    for i in a:\n",
    "        input_search[0] = input_search[0] + i + ' '\n",
    "    return input_search[0]\n",
    "\n",
    "def parse_iframe_html(input_vec):\n",
    "    output_url = []\n",
    "    for i in input_vec:\n",
    "        idx = i.index('src=\"')\n",
    "        tmpR = i[idx+5:]\n",
    "        idx2 = tmpR.index('\"')\n",
    "        output_url.append(tmpR[:idx2])\n",
    "    return output_url\n",
    "        \n"
   ]
  },
  {
   "cell_type": "code",
   "execution_count": 43,
   "metadata": {},
   "outputs": [
    {
     "data": {
      "text/plain": [
       "['Lebron James Ben Simmons Philadelphia ']"
      ]
     },
     "execution_count": 43,
     "metadata": {},
     "output_type": "execute_result"
    }
   ],
   "source": [
    "# get seach terms\n",
    "a = get_search_terms('Lebron James, Ben Simmons have fun in Philadelphia', team_names)\n",
    "a"
   ]
  },
  {
   "cell_type": "code",
   "execution_count": 52,
   "metadata": {},
   "outputs": [],
   "source": [
    "search_vals = get_search_terms('Lebron James, Ben Simmons have fun in Philadelphia', team_names)\n",
    "a,b = get_video_id(search_vals[0], 3, None)"
   ]
  },
  {
   "cell_type": "code",
   "execution_count": 55,
   "metadata": {},
   "outputs": [
    {
     "data": {
      "text/plain": [
       "['<iframe width=\"480\" height=\"270\" src=\"//www.youtube.com/embed/2paWnPCiNqA\" frameborder=\"0\" allow=\"autoplay; encrypted-media\" allowfullscreen></iframe>',\n",
       " '<iframe width=\"480\" height=\"270\" src=\"//www.youtube.com/embed/jwT8Sv1Xa-8\" frameborder=\"0\" allow=\"autoplay; encrypted-media\" allowfullscreen></iframe>',\n",
       " '<iframe width=\"480\" height=\"270\" src=\"//www.youtube.com/embed/NcjZpbf7rGY\" frameborder=\"0\" allow=\"autoplay; encrypted-media\" allowfullscreen></iframe>']"
      ]
     },
     "execution_count": 55,
     "metadata": {},
     "output_type": "execute_result"
    }
   ],
   "source": [
    "a['embed_url']"
   ]
  },
  {
   "cell_type": "code",
   "execution_count": 73,
   "metadata": {},
   "outputs": [],
   "source": [
    "input_value1 = 'https://theundefeated.com/features/how-jr-smith-cleveland-cavaliers-bounced-back-from-nba-finals/'\n",
    "article, lem_txt = s.grab_article(input_value1)\n",
    "search_string = get_search_terms(article.title, team_names)\n",
    "youtube_ouput, b = get_video_id(search_string, 3, None)"
   ]
  },
  {
   "cell_type": "code",
   "execution_count": 66,
   "metadata": {},
   "outputs": [
    {
     "data": {
      "text/plain": [
       "'J.R. Smith '"
      ]
     },
     "execution_count": 66,
     "metadata": {},
     "output_type": "execute_result"
    }
   ],
   "source": [
    "search_string"
   ]
  },
  {
   "cell_type": "code",
   "execution_count": 98,
   "metadata": {},
   "outputs": [
    {
     "name": "stdout",
     "output_type": "stream",
     "text": [
      "<class 'str'>\n",
      "<class 'str'>\n",
      "<class 'str'>\n"
     ]
    },
    {
     "data": {
      "text/plain": [
       "['//www.youtube.com/embed/Cj_4DupKfuk',\n",
       " '//www.youtube.com/embed/LgzhCXsBdpA',\n",
       " '//www.youtube.com/embed/ui1SquTFnxo']"
      ]
     },
     "execution_count": 98,
     "metadata": {},
     "output_type": "execute_result"
    }
   ],
   "source": [
    "aa = parse_iframe_html(youtube_ouput['embed_url'])\n",
    "aa"
   ]
  },
  {
   "cell_type": "code",
   "execution_count": 82,
   "metadata": {},
   "outputs": [
    {
     "data": {
      "text/plain": [
       "'//www.youtube.com/embed/Cj_4DupKfuk'"
      ]
     },
     "execution_count": 82,
     "metadata": {},
     "output_type": "execute_result"
    }
   ],
   "source": [
    "idx = youtube_ouput['embed_url'][0].index('src=\"')\n",
    "tmpR = youtube_ouput['embed_url'][0][idx+5:]\n",
    "idx2 = tmpR.index('\"')\n",
    "output_url = tmpR[:idx2]\n",
    "output_url"
   ]
  },
  {
   "cell_type": "code",
   "execution_count": 107,
   "metadata": {},
   "outputs": [
    {
     "data": {
      "text/plain": [
       "'JR Smith Chokes! LeBron 51 Points Game 1! 2018 NBA Finals'"
      ]
     },
     "execution_count": 107,
     "metadata": {},
     "output_type": "execute_result"
    }
   ],
   "source": [
    "youtube_ouput['title'][0]"
   ]
  },
  {
   "cell_type": "code",
   "execution_count": 100,
   "metadata": {},
   "outputs": [],
   "source": [
    "# for old word2vec model\n",
    "kv = gensim.models.KeyedVectors.load(\n",
    "    \"/Users/rohanramesh/Documents/Insight/data_bball_writers/word2vec_model_kv.kv\", mmap='r')\n",
    "# load word2vec df for comparisons\n",
    "w2v_df2 = pd.read_pickle('/Users/rohanramesh/Documents/Insight/data_bball_writers/word2vec_trained.pickle')"
   ]
  },
  {
   "cell_type": "code",
   "execution_count": 109,
   "metadata": {},
   "outputs": [],
   "source": [
    "# compare to vector from descriptions\n",
    "vec_article = s.get_vector_from_w2v_model(kv, lem_txt)\n",
    "# for title\n",
    "tmp = s.lemstr(gensim.utils.simple_preprocess(youtube_ouput['title'][0]))\n",
    "vec_title = s.get_vector_from_w2v_model(kv, tmp)\n",
    "tmp = s.lemstr(gensim.utils.simple_preprocess(youtube_ouput['description'][0]))\n",
    "vec_description = s.get_vector_from_w2v_model(kv, tmp)"
   ]
  },
  {
   "cell_type": "code",
   "execution_count": 113,
   "metadata": {},
   "outputs": [
    {
     "data": {
      "text/plain": [
       "0.0603170467740033"
      ]
     },
     "execution_count": 113,
     "metadata": {},
     "output_type": "execute_result"
    }
   ],
   "source": [
    "s.cos_sim(vec_article,vec_description)"
   ]
  },
  {
   "cell_type": "code",
   "execution_count": 121,
   "metadata": {},
   "outputs": [],
   "source": [
    "curr_name = 'billsimmons'\n",
    "currcol = mydb[curr_name]\n",
    "y = currcol.find({\"name\": curr_name})"
   ]
  },
  {
   "cell_type": "code",
   "execution_count": 4,
   "metadata": {},
   "outputs": [],
   "source": [
    "# load dataframe for writer feature space\n",
    "writer_features = pd.read_pickle('/Users/rohanramesh/Documents/Insight/data_bball_writers/writer_features_USE.pickle')\n",
    "\n",
    "\n",
    "# load word2vec model\n",
    "kv = gensim.models.KeyedVectors.load(\n",
    "    \"/Users/rohanramesh/Documents/Insight/data_bball_writers/word2vec_model_kv.kv\", mmap='r')\n",
    "# load word2vec df for comparisons\n",
    "w2v_df = pd.read_pickle('/Users/rohanramesh/Documents/Insight/data_bball_writers/word2vec_trained.pickle')\n",
    "\n",
    "# client = MongoClient()\n",
    "# mydb = client[\"testinsightdb\"]\n",
    "\n",
    "# for logo\n",
    "# image_filename = '/Users/rohanramesh/Documents/GitHub/Insight_writers/DashApp/assets/favicon.ico' # replace with your own image\n",
    "# encoded_image = base64.b64encode(open(image_filename, 'rb').read())\n",
    "\n",
    "# for youtube suggestions\n",
    "# team names\n",
    "path_teams = '/Users/rohanramesh/Documents/GitHub/Insight_writers/DashApp/assets/nba-teams.txt'\n",
    "with open(path_teams, 'r') as f:\n",
    "    tmp = f.readlines()\n",
    "team_names = [i.rstrip() for i in tmp]\n",
    "nlp = en_core_web_sm.load()\n",
    "\n",
    "# config file\n",
    "path_teams = '/Users/rohanramesh/Documents/Insight/data_bball_writers/config.txt'\n",
    "with open(path_teams, 'r') as f:\n",
    "    tmp = f.readlines()\n",
    "keys = [i.rstrip() for i in tmp]"
   ]
  },
  {
   "cell_type": "code",
   "execution_count": 28,
   "metadata": {},
   "outputs": [
    {
     "name": "stdout",
     "output_type": "stream",
     "text": [
      "\n"
     ]
    }
   ],
   "source": [
    "# url = 'http://www.espn.com/nba/story/_/id/24796800/los-angeles-lakers-hold-first-practice-lebron-james'\n",
    "url = 'http://www.espn.com/fantasy/basketball/story/_/id/24731308/fantasy-basketball-fantasy-basketball-sleepers-breakouts-busts-2018-19'\n",
    "article, lem_txt = s.grab_article(url)\n",
    "author_sugg = s.give_suggestion_featurespace_single_article(writer_features, txtstr=article.text)\n",
    "article_sugg = s.recommend_article_content(kv, w2v_df, lem_text=lem_txt)\n",
    "search_string = s.get_search_terms(article.title, team_names)\n",
    "print(search_string)\n",
    "# youtube_ouput, b = get_video_id(search_string, 3, None)\n",
    "# urls_to_pass = s.parse_iframe_html(embed_url) \n"
   ]
  },
  {
   "cell_type": "code",
   "execution_count": 9,
   "metadata": {},
   "outputs": [],
   "source": [
    "urls_to_pass = s.parse_iframe_html(youtube_ouput['embed_url']) "
   ]
  },
  {
   "cell_type": "code",
   "execution_count": 27,
   "metadata": {},
   "outputs": [],
   "source": [
    "url = article_sugg['suggested articles'][2014]\n",
    "article = Article(url)\n",
    "article.download()\n",
    "article.parse()"
   ]
  },
  {
   "cell_type": "code",
   "execution_count": 32,
   "metadata": {},
   "outputs": [
    {
     "name": "stdout",
     "output_type": "stream",
     "text": [
      "woo\n"
     ]
    }
   ],
   "source": [
    "if search_string == '':\n",
    "    search_string = article.authors[0]"
   ]
  },
  {
   "cell_type": "code",
   "execution_count": 34,
   "metadata": {},
   "outputs": [
    {
     "data": {
      "text/plain": [
       "'Espn.Com Staff'"
      ]
     },
     "execution_count": 34,
     "metadata": {},
     "output_type": "execute_result"
    }
   ],
   "source": [
    "article.authors[0]"
   ]
  },
  {
   "cell_type": "code",
   "execution_count": null,
   "metadata": {},
   "outputs": [],
   "source": []
  }
 ],
 "metadata": {
  "kernelspec": {
   "display_name": "Python 3",
   "language": "python",
   "name": "python3"
  },
  "language_info": {
   "codemirror_mode": {
    "name": "ipython",
    "version": 3
   },
   "file_extension": ".py",
   "mimetype": "text/x-python",
   "name": "python",
   "nbconvert_exporter": "python",
   "pygments_lexer": "ipython3",
   "version": "3.6.6"
  }
 },
 "nbformat": 4,
 "nbformat_minor": 2
}
