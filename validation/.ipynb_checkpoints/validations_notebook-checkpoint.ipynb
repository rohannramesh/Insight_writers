{
 "cells": [
  {
   "cell_type": "code",
   "execution_count": 1,
   "metadata": {},
   "outputs": [],
   "source": [
    "import numpy as np\n",
    "from IPython.core.debugger import set_trace\n",
    "import re\n",
    "import difflib\n",
    "import pandas as pd\n",
    "import matplotlib.pyplot as plt\n",
    "from bs4 import BeautifulSoup\n",
    "import requests\n",
    "import time\n",
    "import random\n",
    "import pickle\n",
    "from lxml.html import fromstring\n",
    "from collections import Counter\n",
    "from requests.packages.urllib3.util import Retry\n",
    "from requests.adapters import HTTPAdapter\n",
    "from requests import Session, exceptions\n",
    "import sys\n",
    "import pymongo\n",
    "from pymongo import MongoClient\n",
    "from newspaper import Article\n",
    "import json\n",
    "from string import digits\n",
    "from nltk.tokenize import sent_tokenize, word_tokenize\n",
    "import nltk\n",
    "from nltk.stem.porter import *\n",
    "from collections import Counter \n",
    "from nltk.corpus import wordnet # To get words in dictionary with their parts of speech\n",
    "from nltk.stem import WordNetLemmatizer # lemmatizes word based on it's parts of speech\n",
    "from nltk.corpus import stopwords \n",
    "from textblob import TextBlob\n",
    "import spacy\n",
    "from vaderSentiment.vaderSentiment import SentimentIntensityAnalyzer\n",
    "from nltk.corpus import cmudict\n",
    "from sklearn.feature_extraction.text import TfidfVectorizer\n",
    "import gensim\n",
    "from langdetect import detect\n",
    "from numpy import dot\n",
    "from numpy.linalg import norm\n",
    "from sqlalchemy import create_engine\n",
    "from sqlalchemy_utils import database_exists, create_database\n",
    "import psycopg2\n",
    "sys.path.append(\"/Users/rohanramesh/Documents/GitHub/Insight_writers/lib/\")\n",
    "from text_processing import ProcessArticle as pa\n",
    "import suggestions as s\n",
    "from scipy.stats import wilcoxon, sem"
   ]
  },
  {
   "cell_type": "markdown",
   "metadata": {},
   "source": [
    "# Internal validations\n",
    "I will use a split article approach to validate my writer style recommendations and my content recommendations. I will compare internal (ie within article) as a control, with random and suggested pairings. I will selected a writer, randomly select an article and split this article in half. I will then select a random writer and a suggested writer, grab an article from each of them, split those articles in half and then calculate the cosine similarity of writing style and content for all pairwise permutations of first and second half of articles."
   ]
  },
  {
   "cell_type": "code",
   "execution_count": 2,
   "metadata": {},
   "outputs": [],
   "source": [
    "# data load from muckrack\n",
    "with open('/Users/rohanramesh/Documents/Insight/data_bball_writers/Attempt3_mr_scrape.pickle', 'rb') as handle:\n",
    "    scrapevar = pickle.load(handle)\n",
    "    \n",
    "# load writer df\n",
    "with open('/Users/rohanramesh/Documents/Insight/data_bball_writers/writer_df.pickle', 'rb') as handle:\n",
    "    writer_df = pickle.load(handle)"
   ]
  },
  {
   "cell_type": "code",
   "execution_count": 3,
   "metadata": {},
   "outputs": [],
   "source": [
    "# Establish connection with database for individual article content\n",
    "client = MongoClient()\n",
    "mydb = client[\"testinsightdb\"]"
   ]
  },
  {
   "cell_type": "markdown",
   "metadata": {},
   "source": [
    "Grab information from postgres database"
   ]
  },
  {
   "cell_type": "code",
   "execution_count": 4,
   "metadata": {},
   "outputs": [
    {
     "name": "stdout",
     "output_type": "stream",
     "text": [
      "postgres://rohanramesh@localhost/writer_feature_db\n",
      "True\n"
     ]
    }
   ],
   "source": [
    "# establish connection for writer feature db\n",
    "dbname = 'writer_feature_db'\n",
    "username = 'rohanramesh' \n",
    "engine = create_engine('postgres://%s@localhost/%s'%(username,dbname))\n",
    "print(engine.url)\n",
    "if not database_exists(engine.url):\n",
    "    create_database(engine.url)\n",
    "print(database_exists(engine.url))\n",
    "con = None\n",
    "con = psycopg2.connect(database = dbname, user = username)"
   ]
  },
  {
   "cell_type": "code",
   "execution_count": 5,
   "metadata": {},
   "outputs": [],
   "source": [
    "# pull from database about writer features\n",
    "sql_query = \"\"\"\n",
    "SELECT AVG(\"n_words\") AS \"avg_n_words\",\n",
    "         AVG(\"neg_sent\") AS \"avg_neg_sent\",\n",
    "         AVG(\"neu_sent\") AS \"avg_neu_sent\",\n",
    "         AVG(\"pos_sent\") AS \"avg_pos_sent\",\n",
    "         AVG(\"neg_sent_var\") AS \"avg_neg_sent_var\",\n",
    "         AVG(\"neu_sent_var\") AS \"avg_neu_sent_var\",\n",
    "         AVG(\"pos_sent_var\") AS \"avg_pos_sent_var\",\n",
    "        AVG(\"n_sentences\") AS \"avg_n_sentences\",\n",
    "        AVG(\"n_wordspersentence\") AS \"avg_n_wordspersentence\",\n",
    "        AVG(\"n_wordspersent_variability\") AS \"avg_n_wordspersent_variability\",\n",
    "        AVG(\"wordlength\") AS \"avg_wordlength\",\n",
    "        AVG(\"wordlength_var\") AS \"avg_wordlength_var\",\n",
    "        AVG(\"wordlength_skew\") AS \"avg_wordlength_skew\",\n",
    "        \"author_list\"\n",
    "FROM writer_feature\n",
    "WHERE \"n_words\" > 100\n",
    "GROUP BY \"author_list\"\n",
    "HAVING COUNT(*) > 25 \n",
    "ORDER BY AVG(\"n_words\") DESC\n",
    "\"\"\"\n",
    "writer_feature_subsection = pd.read_sql_query(sql_query,con)\n",
    "writer_feature_subsection.head(10)\n",
    "writer_feature_subsection.replace([np.inf, -np.inf], np.nan)\n",
    "writer_feature_subsection = writer_feature_subsection.dropna(axis=0, how='any')\n",
    "norm_writer_feature_subsection = s.normalize_df(writer_feature_subsection)"
   ]
  },
  {
   "cell_type": "markdown",
   "metadata": {},
   "source": [
    "Look at how dividing article in half vs grabbing random article affects classification based on writer style or content"
   ]
  },
  {
   "cell_type": "code",
   "execution_count": 5,
   "metadata": {},
   "outputs": [],
   "source": [
    "# load word2vec model keyedvectors to make content based suggestions\n",
    "kv = gensim.models.KeyedVectors.load(\n",
    "    \"/Users/rohanramesh/Documents/Insight/data_bball_writers/word2vec_model_kv.kv\", mmap='r')\n",
    "# load word2vec df for comparisons - this is a collection of the word2vec vectors for all articles in db\n",
    "w2v_df = pd.read_pickle('/Users/rohanramesh/Documents/Insight/data_bball_writers/word2vec_trained.pickle')"
   ]
  },
  {
   "cell_type": "code",
   "execution_count": 116,
   "metadata": {},
   "outputs": [],
   "source": [
    "# Functions for calculating cosine similarity between two articles for both writing style and content\n",
    "def compare_content_two_articles(keyedvectors, w2v_df, article1, article2):\n",
    "    \"\"\"\n",
    "    calculate the cos sim between two articles by running both articles through w2v model\n",
    "    and comparing vectors. The articles can be completely unprocessed\n",
    "    :param keyedvectors: vectors from trained w2v model\n",
    "    :param w2v_df: dataframe with all vectors from previous articles\n",
    "    :param article1: first article (unprocessed text)\n",
    "    :param article2: second article (unprocessed text)\n",
    "    :return: sim: cosine similarity between two articles\n",
    "    \"\"\"\n",
    "    lem_art1 = s.lemstr(gensim.utils.simple_preprocess(article1))\n",
    "    lem_art2 = s.lemstr(gensim.utils.simple_preprocess(article2))\n",
    "    article_vector1 = s.get_vector_from_w2v_model(keyedvectors, lem_art1)\n",
    "    article_vector2 = s.get_vector_from_w2v_model(keyedvectors, lem_art2)\n",
    "    sim = cos_sim(article_vector1, article_vector2)\n",
    "    return sim\n",
    "\n",
    "def compare_style_two_articles(article1, article2, writer_feature_subsection):\n",
    "    \"\"\"\n",
    "    calculate the cos sim between two articles for writing style. \n",
    "    The articles can be completely unprocessed\n",
    "    :param article1: first article (unprocessed text)\n",
    "    :param article2: second article (unprocessed text)\n",
    "    :param writer_feature_subsection: pandas df that has the average writing style for all writers in db\n",
    "    :return: sim: cosine similarity between two articles\n",
    "    :return: norm_vec1: the normalized vector for article1\n",
    "    :return: norm_vec2: normalized vector for article2\n",
    "    \"\"\"\n",
    "    curr1 = pa(article1)\n",
    "    vec1 = curr1.build_feature_vector_for_article()\n",
    "    norm_vec1 = s.normalize_vec(vec1, writer_feature_subsection.mean().tolist(),\n",
    "                             writer_feature_subsection.std().tolist())\n",
    "    curr2 = pa(article2)\n",
    "    vec2 = curr2.build_feature_vector_for_article()\n",
    "    norm_vec2 = s.normalize_vec(vec2, writer_feature_subsection.mean().tolist(),\n",
    "                             writer_feature_subsection.std().tolist())\n",
    "    sim = s.cos_sim(norm_vec1, norm_vec2)\n",
    "    return sim, norm_vec1, norm_vec2"
   ]
  },
  {
   "cell_type": "markdown",
   "metadata": {},
   "source": [
    "This is the code chunk that will iterate through all writers and for 50x grab a suggested and a random writer's articles and do the writer style and content based comparisons after splitting all articles in half. Note that for now I am not worrying about splitting words in half when I split the article in half because I was struggling to reverse my word tokenization if I split on word number"
   ]
  },
  {
   "cell_type": "code",
   "execution_count": 233,
   "metadata": {},
   "outputs": [
    {
     "name": "stdout",
     "output_type": "stream",
     "text": [
      "zachlowe_nba\n"
     ]
    },
    {
     "name": "stderr",
     "output_type": "stream",
     "text": [
      "/anaconda3/envs/insight_new/lib/python3.6/site-packages/ipykernel_launcher.py:20: DeprecationWarning: count is deprecated. Use Collection.count_documents instead.\n",
      "/anaconda3/envs/insight_new/lib/python3.6/site-packages/ipykernel_launcher.py:62: DeprecationWarning: count is deprecated. Use Collection.count_documents instead.\n",
      "/anaconda3/envs/insight_new/lib/python3.6/site-packages/ipykernel_launcher.py:98: DeprecationWarning: count is deprecated. Use Collection.count_documents instead.\n"
     ]
    },
    {
     "name": "stdout",
     "output_type": "stream",
     "text": [
      "adrian-wojnarowski\n",
      "lee-jenkins\n",
      "howardbeck\n",
      "marc-stein\n",
      "ethan-sherwood-strauss\n",
      "jason-concepcion\n",
      "kevin-arnovitz\n",
      "tom-haberstroh\n",
      "nate-duncan\n",
      "zach-harper\n",
      "brian-windhorst\n",
      "sam_amick\n",
      "david-aldridge\n",
      "ramona-shelburne\n",
      "jpdabrams\n",
      "kevin-pelton\n",
      "marc-j-spears\n",
      "matt-moore\n",
      "shams-charania\n",
      "kevin-p-oconnor\n",
      "chris-haynes\n",
      "dave-mcmenamin\n",
      "shea-serrano\n",
      "ian-begley\n",
      "rachel-nichols\n",
      "ben-golliver\n",
      "mike-prada\n",
      "robmahoney\n",
      "tim-macmahon\n",
      "chris-herring\n",
      "billsimmons\n",
      "jonathan-tjarks\n",
      "amin-elhassen\n",
      "bobby-marks\n",
      "danny-leroux\n",
      "chris-mannix\n",
      "dan-devine\n",
      "michael-pina\n",
      "thompsonscribe\n",
      "ben-golliver\n",
      "ben-falk\n",
      "ian-levy\n",
      "tim-bontemps\n",
      "henry-abbott\n",
      "scott-rafferty\n",
      "ja-dubin\n",
      "michael-lee\n",
      "alex-kennedy\n",
      "derek-bodner\n"
     ]
    },
    {
     "name": "stderr",
     "output_type": "stream",
     "text": [
      "/anaconda3/envs/insight_new/lib/python3.6/site-packages/numpy/core/fromnumeric.py:2957: RuntimeWarning: Mean of empty slice.\n",
      "  out=out, **kwargs)\n",
      "/anaconda3/envs/insight_new/lib/python3.6/site-packages/numpy/core/_methods.py:73: RuntimeWarning: invalid value encountered in true_divide\n",
      "  ret, rcount, out=ret, casting='unsafe', subok=False)\n"
     ]
    },
    {
     "name": "stdout",
     "output_type": "stream",
     "text": [
      "tom-ziller\n",
      "chris-ballard\n",
      "josh-eberley\n",
      "adi-joseph\n",
      "adam-mares\n",
      "sam-vecenie\n",
      "meet-katie-nolan\n",
      "andrew-sharp\n",
      "david-thorpe\n",
      "royce-webb\n",
      "ericpincus\n",
      "nick-sciria\n",
      "paul-flannery\n",
      "You must `download()` an article first!\n"
     ]
    },
    {
     "ename": "ArticleException",
     "evalue": "",
     "output_type": "error",
     "traceback": [
      "\u001b[0;31m---------------------------------------------------------------------------\u001b[0m",
      "\u001b[0;31mArticleException\u001b[0m                          Traceback (most recent call last)",
      "\u001b[0;32m<ipython-input-233-ec3044567c57>\u001b[0m in \u001b[0;36m<module>\u001b[0;34m()\u001b[0m\n\u001b[1;32m    127\u001b[0m     \u001b[0msuggestedmatch_content\u001b[0m \u001b[0;34m=\u001b[0m \u001b[0;34m[\u001b[0m\u001b[0;34m]\u001b[0m\u001b[0;34m\u001b[0m\u001b[0m\n\u001b[1;32m    128\u001b[0m     \u001b[0;32mfor\u001b[0m \u001b[0mi\u001b[0m \u001b[0;32min\u001b[0m \u001b[0mc\u001b[0m\u001b[0;34m:\u001b[0m\u001b[0;34m\u001b[0m\u001b[0m\n\u001b[0;32m--> 129\u001b[0;31m         \u001b[0mm\u001b[0m\u001b[0;34m,\u001b[0m \u001b[0mn\u001b[0m \u001b[0;34m=\u001b[0m \u001b[0ms\u001b[0m\u001b[0;34m.\u001b[0m\u001b[0mgrab_article\u001b[0m\u001b[0;34m(\u001b[0m\u001b[0mi\u001b[0m\u001b[0;34m)\u001b[0m\u001b[0;34m\u001b[0m\u001b[0m\n\u001b[0m\u001b[1;32m    130\u001b[0m         \u001b[0msuggestedmatch_content\u001b[0m\u001b[0;34m.\u001b[0m\u001b[0mappend\u001b[0m\u001b[0;34m(\u001b[0m\u001b[0mcompare_content_two_articles\u001b[0m\u001b[0;34m(\u001b[0m\u001b[0mkv\u001b[0m\u001b[0;34m,\u001b[0m \u001b[0mw2v_df\u001b[0m\u001b[0;34m,\u001b[0m \u001b[0mcurr_article\u001b[0m\u001b[0;34m,\u001b[0m \u001b[0mm\u001b[0m\u001b[0;34m.\u001b[0m\u001b[0mtext\u001b[0m\u001b[0;34m)\u001b[0m\u001b[0;34m)\u001b[0m\u001b[0;34m\u001b[0m\u001b[0m\n\u001b[1;32m    131\u001b[0m     \u001b[0msimilarity_within_sugg\u001b[0m\u001b[0;34m[\u001b[0m\u001b[0mcurr_name\u001b[0m\u001b[0;34m]\u001b[0m\u001b[0;34m[\u001b[0m\u001b[0;34m'content'\u001b[0m\u001b[0;34m]\u001b[0m \u001b[0;34m=\u001b[0m \u001b[0msuggestedmatch_content\u001b[0m\u001b[0;34m\u001b[0m\u001b[0m\n",
      "\u001b[0;32m~/Documents/GitHub/Insight_writers/lib/suggestions.py\u001b[0m in \u001b[0;36mgrab_article\u001b[0;34m(article_url)\u001b[0m\n\u001b[1;32m     36\u001b[0m     \u001b[0marticle\u001b[0m \u001b[0;34m=\u001b[0m \u001b[0mArticle\u001b[0m\u001b[0;34m(\u001b[0m\u001b[0marticle_url\u001b[0m\u001b[0;34m)\u001b[0m\u001b[0;34m\u001b[0m\u001b[0m\n\u001b[1;32m     37\u001b[0m     \u001b[0marticle\u001b[0m\u001b[0;34m.\u001b[0m\u001b[0mdownload\u001b[0m\u001b[0;34m(\u001b[0m\u001b[0;34m)\u001b[0m\u001b[0;34m\u001b[0m\u001b[0m\n\u001b[0;32m---> 38\u001b[0;31m     \u001b[0marticle\u001b[0m\u001b[0;34m.\u001b[0m\u001b[0mparse\u001b[0m\u001b[0;34m(\u001b[0m\u001b[0;34m)\u001b[0m\u001b[0;34m\u001b[0m\u001b[0m\n\u001b[0m\u001b[1;32m     39\u001b[0m     \u001b[0mlem_art\u001b[0m \u001b[0;34m=\u001b[0m \u001b[0mlemstr\u001b[0m\u001b[0;34m(\u001b[0m\u001b[0mgensim\u001b[0m\u001b[0;34m.\u001b[0m\u001b[0mutils\u001b[0m\u001b[0;34m.\u001b[0m\u001b[0msimple_preprocess\u001b[0m\u001b[0;34m(\u001b[0m\u001b[0marticle\u001b[0m\u001b[0;34m.\u001b[0m\u001b[0mtext\u001b[0m\u001b[0;34m)\u001b[0m\u001b[0;34m)\u001b[0m\u001b[0;34m\u001b[0m\u001b[0m\n\u001b[1;32m     40\u001b[0m     \u001b[0;32mreturn\u001b[0m \u001b[0marticle\u001b[0m\u001b[0;34m,\u001b[0m \u001b[0mlem_art\u001b[0m\u001b[0;34m\u001b[0m\u001b[0m\n",
      "\u001b[0;32m/anaconda3/envs/insight_new/lib/python3.6/site-packages/newspaper/article.py\u001b[0m in \u001b[0;36mparse\u001b[0;34m(self)\u001b[0m\n\u001b[1;32m    183\u001b[0m \u001b[0;34m\u001b[0m\u001b[0m\n\u001b[1;32m    184\u001b[0m     \u001b[0;32mdef\u001b[0m \u001b[0mparse\u001b[0m\u001b[0;34m(\u001b[0m\u001b[0mself\u001b[0m\u001b[0;34m)\u001b[0m\u001b[0;34m:\u001b[0m\u001b[0;34m\u001b[0m\u001b[0m\n\u001b[0;32m--> 185\u001b[0;31m         \u001b[0mself\u001b[0m\u001b[0;34m.\u001b[0m\u001b[0mthrow_if_not_downloaded_verbose\u001b[0m\u001b[0;34m(\u001b[0m\u001b[0;34m)\u001b[0m\u001b[0;34m\u001b[0m\u001b[0m\n\u001b[0m\u001b[1;32m    186\u001b[0m \u001b[0;34m\u001b[0m\u001b[0m\n\u001b[1;32m    187\u001b[0m         \u001b[0mself\u001b[0m\u001b[0;34m.\u001b[0m\u001b[0mdoc\u001b[0m \u001b[0;34m=\u001b[0m \u001b[0mself\u001b[0m\u001b[0;34m.\u001b[0m\u001b[0mconfig\u001b[0m\u001b[0;34m.\u001b[0m\u001b[0mget_parser\u001b[0m\u001b[0;34m(\u001b[0m\u001b[0;34m)\u001b[0m\u001b[0;34m.\u001b[0m\u001b[0mfromstring\u001b[0m\u001b[0;34m(\u001b[0m\u001b[0mself\u001b[0m\u001b[0;34m.\u001b[0m\u001b[0mhtml\u001b[0m\u001b[0;34m)\u001b[0m\u001b[0;34m\u001b[0m\u001b[0m\n",
      "\u001b[0;32m/anaconda3/envs/insight_new/lib/python3.6/site-packages/newspaper/article.py\u001b[0m in \u001b[0;36mthrow_if_not_downloaded_verbose\u001b[0;34m(self)\u001b[0m\n\u001b[1;32m    520\u001b[0m         \u001b[0;32mif\u001b[0m \u001b[0mself\u001b[0m\u001b[0;34m.\u001b[0m\u001b[0mdownload_state\u001b[0m \u001b[0;34m==\u001b[0m \u001b[0mArticleDownloadState\u001b[0m\u001b[0;34m.\u001b[0m\u001b[0mNOT_STARTED\u001b[0m\u001b[0;34m:\u001b[0m\u001b[0;34m\u001b[0m\u001b[0m\n\u001b[1;32m    521\u001b[0m             \u001b[0mprint\u001b[0m\u001b[0;34m(\u001b[0m\u001b[0;34m'You must `download()` an article first!'\u001b[0m\u001b[0;34m)\u001b[0m\u001b[0;34m\u001b[0m\u001b[0m\n\u001b[0;32m--> 522\u001b[0;31m             \u001b[0;32mraise\u001b[0m \u001b[0mArticleException\u001b[0m\u001b[0;34m(\u001b[0m\u001b[0;34m)\u001b[0m\u001b[0;34m\u001b[0m\u001b[0m\n\u001b[0m\u001b[1;32m    523\u001b[0m         \u001b[0;32melif\u001b[0m \u001b[0mself\u001b[0m\u001b[0;34m.\u001b[0m\u001b[0mdownload_state\u001b[0m \u001b[0;34m==\u001b[0m \u001b[0mArticleDownloadState\u001b[0m\u001b[0;34m.\u001b[0m\u001b[0mFAILED_RESPONSE\u001b[0m\u001b[0;34m:\u001b[0m\u001b[0;34m\u001b[0m\u001b[0m\n\u001b[1;32m    524\u001b[0m             print('Article `download()` failed with %s on URL %s' %\n",
      "\u001b[0;31mArticleException\u001b[0m: "
     ]
    }
   ],
   "source": [
    "# Iterate over all relevant authors and do the bootstrap comparison x times\n",
    "# TODO: turn the output of random and suggested writer comparisons into fn bc right now way too repetitive\n",
    "authorlist = norm_writer_feature_subsection['author_list'].tolist()\n",
    "n_articles_test = 50\n",
    "n_articles_comp = 50\n",
    "n_boot_comp = 50\n",
    "n_terms_in_vec = 13\n",
    "similarity_within_author = {}\n",
    "baseline_across_author = {}\n",
    "similarity_within_sugg = {}\n",
    "# iterate over authors\n",
    "for ii in range(0,np.shape(writer_df)[0]):\n",
    "    curr_name = writer_df['website_name'][ii]\n",
    "    curr_name_full = writer_df['Idea Text'][ii]\n",
    "    print(curr_name)\n",
    "    # only continue if there are actual suggestions in out dataset\n",
    "    sugg = s.give_author_suggestion_from_author(writer_feature_subsection, curr_name)\n",
    "    if not isinstance(sugg, pd.DataFrame):\n",
    "        continue\n",
    "    t = time.time()\n",
    "    currcol = mydb[curr_name]\n",
    "    y = currcol.find({\"name\": curr_name})\n",
    "    totalarticlen = y.count()\n",
    "    # require the author to have at least 25 articles otherwise things get funky with sampling 50 times\n",
    "    if totalarticlen < 25:\n",
    "        continue\n",
    "    # preallocate for each comp\n",
    "    similarity_within_author[curr_name] = {}\n",
    "    baseline_across_author[curr_name] = {}\n",
    "    similarity_within_sugg[curr_name] = {}\n",
    "    content_sim = []\n",
    "    style_sim = []\n",
    "    # for pooling across first and second half\n",
    "    first_pool = np.empty((n_boot_comp, n_terms_in_vec)) * np.nan\n",
    "    second_pool = np.empty((n_boot_comp, n_terms_in_vec)) * np.nan\n",
    "    # WITHIN AUTHOR AND WITHIN ARTICLE COMPARISON\n",
    "    for jj in range(0, n_boot_comp):\n",
    "        # randomly grab an article from an author\n",
    "        curr_idx = random.sample(range(0,totalarticlen),1)\n",
    "        curr_article = y[curr_idx[0]]['article']\n",
    "        tokens = word_tokenize(curr_article)\n",
    "        # only continue if more than 250 words in article bc the sentiment variability scores aren't accurate with \n",
    "        # fewer than 4 sentences\n",
    "        if len(tokens) < 250: # if fewer than 250 words don't bother\n",
    "            continue\n",
    "        # split article in half - not worrying right now about cutting words in half\n",
    "        first_half = curr_article[0:int(np.floor(len(curr_article)/2))]\n",
    "        second_half = curr_article[int(np.floor(len(curr_article)/2)):]\n",
    "        # calculate similarity between first and second half for both content and style\n",
    "        content_sim.append(compare_content_two_articles(kv, w2v_df, first_half, second_half))\n",
    "        a, b, c = compare_style_two_articles(first_half, second_half, writer_feature_subsection)\n",
    "        style_sim.append(a)\n",
    "        # now for saving vec\n",
    "        first_pool[jj,:] = b\n",
    "        second_pool[jj,:] = c\n",
    "    similarity_within_author[curr_name]['content'] = content_sim\n",
    "    similarity_within_author[curr_name]['style'] = style_sim  \n",
    "    similarity_within_author[curr_name]['style_avg'] = s.cos_sim(\n",
    "        np.nanmean(first_pool, axis=0), np.nanmean(second_pool, axis=0))    \n",
    "    # now for baseline testing - COMPARE WITH RANDOM WRITER\n",
    "    baseline_style = []\n",
    "    baseline_content = []\n",
    "    baseline_style_avg = []\n",
    "    # pool across baseline first and second halves\n",
    "    first_poolb = np.empty((n_boot_comp, n_terms_in_vec)) * np.nan\n",
    "    second_poolb = np.empty((n_boot_comp, n_terms_in_vec)) * np.nan\n",
    "    # iterate over all randomly selected pairings\n",
    "    for j in range(0,n_boot_comp):\n",
    "        # randomly select a writer, TODO: make this not a suggested writer\n",
    "        new_author = random.sample(writer_df['website_name'].tolist(), 1)[0]\n",
    "        # have to establish new connection to the mongo db for this writer\n",
    "        currcol2 = mydb[new_author]\n",
    "        y2 = currcol2.find({\"name\": new_author}) # this is collection for that writer\n",
    "        totalarticlen = y2.count()\n",
    "        if totalarticlen == 0: # if no articles then continue\n",
    "            continue\n",
    "        # randomly grab an article from this writer\n",
    "        curr_idx = random.sample(range(0,totalarticlen),1)\n",
    "        curr_article2 = y2[curr_idx[0]]['article']\n",
    "        tokens = word_tokenize(curr_article2)\n",
    "        if len(tokens) < 250: # if fewer than 250 words don't bother\n",
    "            continue\n",
    "        # split article control in half - not worrying right now about cutting words in half\n",
    "        first_half_control = curr_article2[0:int(np.floor(len(curr_article2)/2))]\n",
    "        second_half_control = curr_article2[int(np.floor(len(curr_article2)/2)):]\n",
    "        # now do comps for first and second half - with first or second half from original writer\n",
    "        # comparisons are for both content and style\n",
    "        baseline_content.append(compare_content_two_articles(kv, w2v_df, first_half, second_half_control))\n",
    "        a, b, c2 = compare_style_two_articles(first_half, second_half_control, writer_feature_subsection)\n",
    "        baseline_style.append(a)\n",
    "        baseline_content.append(compare_content_two_articles(kv, w2v_df, second_half, first_half_control))\n",
    "        a, b, c1 = compare_style_two_articles(second_half, first_half_control, writer_feature_subsection)\n",
    "        baseline_style.append(a)\n",
    "        # for avg style\n",
    "        first_poolb[j,:] = c1\n",
    "        second_poolb[j,:] = c2\n",
    "    # append information for baseline random comparrison\n",
    "    baseline_across_author[curr_name]['content'] = baseline_content\n",
    "    baseline_across_author[curr_name]['style'] = baseline_style \n",
    "    baseline_across_author[curr_name]['style_avg'] = s.cos_sim(\n",
    "                            np.nanmean(first_pool, axis=0), np.nanmean(second_poolb, axis=0))\n",
    "    # now do same thing but for suggested artists\n",
    "    author_sugg = sugg['authors'].tolist()[0:4] # these are suggested authors\n",
    "    suggestedmatch_style = []\n",
    "    suggestedmatch_style_avg = []\n",
    "    # for pooled\n",
    "    first_pools = np.empty((n_boot_comp, n_terms_in_vec)) * np.nan\n",
    "    second_pools = np.empty((n_boot_comp, n_terms_in_vec)) * np.nan\n",
    "    for j in range(0,n_boot_comp):\n",
    "        # randomly grab a suggested author and access his collection on mongo\n",
    "        new_author = random.sample(author_sugg, 1)[0]\n",
    "        currcol2 = mydb[new_author]\n",
    "        # these are suggested articles\n",
    "        y2 = currcol2.find({\"name\": new_author})\n",
    "        totalarticlen = y2.count()\n",
    "        if totalarticlen == 0: # if no suggested articles continue\n",
    "            continue\n",
    "        # randomly sample selected article\n",
    "        curr_idx = random.sample(range(0,totalarticlen),1)\n",
    "        curr_article2 = y2[curr_idx[0]]['article']\n",
    "        tokens = word_tokenize(curr_article2)\n",
    "        if len(tokens) < 250: # if fewer than 250 words don't bother\n",
    "            continue\n",
    "        # split article control in half - not worrying right now about cutting words in half\n",
    "        first_half_sugg = curr_article2[0:int(np.floor(len(curr_article2)/2))]\n",
    "        second_half_sugg = curr_article2[int(np.floor(len(curr_article2)/2)):]\n",
    "        # now do comps for first and second half for both content and style\n",
    "        a, b, c2 = compare_style_two_articles(first_half, second_half_sugg, writer_feature_subsection)\n",
    "        suggestedmatch_style.append(a)\n",
    "        a, b, c1 = compare_style_two_articles(second_half, first_half_sugg, writer_feature_subsection)\n",
    "        suggestedmatch_style.append(a)\n",
    "        # for avg\n",
    "        first_pools[j,:] = c1\n",
    "        second_pools[j,:] = c2\n",
    "    similarity_within_sugg[curr_name]['style'] = suggestedmatch_style \n",
    "    similarity_within_sugg[curr_name]['style_avg'] = s.cos_sim(\n",
    "                            np.nanmean(first_pool, axis=0), np.nanmean(second_pools, axis=0))\n",
    "    # suggestions based on content of article from articles in db\n",
    "    a = s.lemstr(gensim.utils.simple_preprocess(curr_article))\n",
    "    b = s.recommend_article_content(kv, w2v_df, lem_text=a)\n",
    "    c = b['url'].tolist()[0:5] \n",
    "    suggestedmatch_content = []\n",
    "    for i in c:\n",
    "        m, n = s.grab_article(i)\n",
    "        suggestedmatch_content.append(compare_content_two_articles(kv, w2v_df, curr_article, m.text))\n",
    "    similarity_within_sugg[curr_name]['content'] = suggestedmatch_content\n",
    "\n"
   ]
  },
  {
   "cell_type": "code",
   "execution_count": 7,
   "metadata": {},
   "outputs": [
    {
     "name": "stdout",
     "output_type": "stream",
     "text": [
      "paul-flannery\n"
     ]
    },
    {
     "name": "stderr",
     "output_type": "stream",
     "text": [
      "/anaconda3/envs/insight_new/lib/python3.6/site-packages/numpy/lib/function_base.py:4033: RuntimeWarning: All-NaN slice encountered\n",
      "  r = func(a, **kwargs)\n"
     ]
    }
   ],
   "source": [
    "# Pool across all writers to get a sense for what this looks like for writers as a population\n",
    "tmpauthorlist = similarity_within_author.keys()\n",
    "style_sim_within = []\n",
    "style_sim_across = []\n",
    "style_sim_sugg = []\n",
    "content_sim_within = []\n",
    "content_sim_across = []\n",
    "content_sim_sugg = []\n",
    "for ii in similarity_within_author:\n",
    "    try:\n",
    "        content_sim_across.append(np.nanmedian(baseline_across_author[ii]['content']))\n",
    "        content_sim_within.append(np.nanmedian(similarity_within_author[ii]['content']))\n",
    "        content_sim_sugg.append(np.nanmedian(similarity_within_sugg[ii]['content']))\n",
    "        style_sim_across.append(np.nanmedian(baseline_across_author[ii]['style_avg']))\n",
    "        style_sim_within.append(np.nanmedian(similarity_within_author[ii]['style_avg']))\n",
    "        style_sim_sugg.append(np.nanmedian(similarity_within_sugg[ii]['style_avg']))\n",
    "        # also look at actual value\n",
    "#         r = s.give_author_suggestion_from_author(writer_feature_subsection, ii)\n",
    "    except:\n",
    "        print(ii)"
   ]
  },
  {
   "cell_type": "code",
   "execution_count": 235,
   "metadata": {},
   "outputs": [
    {
     "name": "stdout",
     "output_type": "stream",
     "text": [
      "0.6529324405048034\n",
      "0.9056892022655406\n",
      "0.8879799181090291\n",
      "0.37714886278881365\n",
      "0.7668313101314218\n",
      "0.6280584054023554\n"
     ]
    }
   ],
   "source": [
    "# These are the values across all writers\n",
    "print(np.nanmean(content_sim_across))\n",
    "print(np.nanmean(content_sim_within))\n",
    "print(np.nanmean(content_sim_sugg))\n",
    "print(np.nanmean(style_sim_across))\n",
    "print(np.nanmean(style_sim_within))\n",
    "print(np.nanmean(style_sim_sugg))"
   ]
  },
  {
   "cell_type": "markdown",
   "metadata": {},
   "source": [
    "Save or load variables for figure making"
   ]
  },
  {
   "cell_type": "code",
   "execution_count": 6,
   "metadata": {},
   "outputs": [],
   "source": [
    "# save these variables\n",
    "# validation_variables = [similarity_within_author, baseline_across_author, similarity_within_sugg]\n",
    "# with open('/Users/rohanramesh/Documents/Insight/data_bball_writers/validation_variables.pickle', 'wb') as handle:\n",
    "#     pickle.dump(validation_variables, handle, protocol=pickle.HIGHEST_PROTOCOL)\n",
    "\n",
    "# for load\n",
    "with open('/Users/rohanramesh/Documents/Insight/data_bball_writers/validation_variables.pickle', 'rb') as handle:\n",
    "    validation_variables = pickle.load(handle)\n",
    "similarity_within_author = validation_variables[0]\n",
    "baseline_across_author = validation_variables[1]\n",
    "similarity_within_sugg = validation_variables[2]"
   ]
  },
  {
   "cell_type": "code",
   "execution_count": 257,
   "metadata": {},
   "outputs": [
    {
     "data": {
      "image/png": "[encoded data removed]",
      "text/plain": [
       "<Figure size 432x288 with 1 Axes>"
      ]
     },
     "metadata": {
      "needs_background": "light"
     },
     "output_type": "display_data"
    },
    {
     "data": {
      "image/png": "[encoded data removed]",
      "text/plain": [
       "<Figure size 432x288 with 1 Axes>"
      ]
     },
     "metadata": {
      "needs_background": "light"
     },
     "output_type": "display_data"
    }
   ],
   "source": [
    "# for style bar plot\n",
    "plt.bar(range(0,3),[np.nanmean(style_sim_within), \n",
    "                    np.nanmean(style_sim_across), \n",
    "                   np.nanmean(style_sim_sugg)], 0.75, \n",
    "        yerr=[sem(style_sim_within), sem(style_sim_across), sem(style_sim_sugg)], \n",
    "        tick_label= ['Within author', 'Random author', 'Suggested author'])\n",
    "plt.ylabel('Style similarity')\n",
    "plt.ylim([0, 1])\n",
    "plt.savefig('/Users/rohanramesh/Documents/Insight/Presentation_material/Figures/Style_similarity.eps', format='eps', dpi=1000)\n",
    "plt.show()\n",
    "# for content bar plot\n",
    "plt.bar(range(0,3),[np.nanmean(content_sim_within), \n",
    "                    np.nanmean(content_sim_across), \n",
    "                   np.nanmean(content_sim_sugg)], 0.75, \n",
    "        yerr=[sem(content_sim_within, nan_policy='omit'),\n",
    "              sem(content_sim_across, nan_policy='omit'), sem(content_sim_sugg, nan_policy='omit')], \n",
    "        tick_label= ['Within article', 'Random article', 'Suggested article'])\n",
    "plt.ylabel('Content similarity')\n",
    "plt.ylim([0, 1])\n",
    "plt.savefig('/Users/rohanramesh/Documents/Insight/Presentation_material/Figures/Content_similarity.eps', format='eps', dpi=1000)\n",
    "plt.show()\n"
   ]
  }
 ],
 "metadata": {
  "kernelspec": {
   "display_name": "Python 3",
   "language": "python",
   "name": "python3"
  },
  "language_info": {
   "codemirror_mode": {
    "name": "ipython",
    "version": 3
   },
   "file_extension": ".py",
   "mimetype": "text/x-python",
   "name": "python",
   "nbconvert_exporter": "python",
   "pygments_lexer": "ipython3",
   "version": "3.6.6"
  }
 },
 "nbformat": 4,
 "nbformat_minor": 2
}
