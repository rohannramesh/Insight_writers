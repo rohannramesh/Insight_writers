{
 "cells": [
  {
   "cell_type": "code",
   "execution_count": 74,
   "metadata": {},
   "outputs": [],
   "source": [
    "import numpy as np\n",
    "from IPython.core.debugger import set_trace\n",
    "import re\n",
    "import difflib\n",
    "import pandas as pd\n",
    "import matplotlib.pyplot as plt\n",
    "from bs4 import BeautifulSoup\n",
    "import requests\n",
    "import time\n",
    "import random\n",
    "import pickle\n",
    "from lxml.html import fromstring\n",
    "from collections import Counter\n",
    "from requests.packages.urllib3.util import Retry\n",
    "from requests.adapters import HTTPAdapter\n",
    "from requests import Session, exceptions\n",
    "import sys\n",
    "import pymongo\n",
    "from pymongo import MongoClient\n",
    "from newspaper import Article\n",
    "import json\n",
    "from string import digits\n",
    "from nltk.tokenize import sent_tokenize, word_tokenize\n",
    "import nltk\n",
    "from nltk.stem.porter import *\n",
    "from collections import Counter \n",
    "from nltk.corpus import wordnet # To get words in dictionary with their parts of speech\n",
    "from nltk.stem import WordNetLemmatizer # lemmatizes word based on it's parts of speech\n",
    "from nltk.corpus import stopwords \n",
    "from textblob import TextBlob\n",
    "import spacy\n",
    "from vaderSentiment.vaderSentiment import SentimentIntensityAnalyzer\n",
    "from nltk.corpus import cmudict\n",
    "from sklearn.feature_extraction.text import TfidfVectorizer\n",
    "import gensim\n",
    "from langdetect import detect\n",
    "from numpy import dot\n",
    "from numpy.linalg import norm\n",
    "from sqlalchemy import create_engine\n",
    "from sqlalchemy_utils import database_exists, create_database\n",
    "import psycopg2"
   ]
  },
  {
   "cell_type": "code",
   "execution_count": 2,
   "metadata": {},
   "outputs": [],
   "source": [
    "# normalize new df\n",
    "def normalize_df(df):\n",
    "    result = df.copy()\n",
    "    for feature_name in df.columns:\n",
    "        if isinstance(df[feature_name][0], str):\n",
    "            continue\n",
    "        max_value = df[feature_name].max()\n",
    "        min_value = df[feature_name].min()\n",
    "#         result[feature_name] = (df[feature_name] - min_value) / (max_value - min_value)\n",
    "        result[feature_name] = (df[feature_name] - df[feature_name].mean()) / (df[feature_name].std())\n",
    "#         result[feature_name] = (df[feature_name]) / norm(df[feature_name])\n",
    "    return result\n",
    "\n",
    "# same normalization but on vector\n",
    "def normalize_vec(list1, means, var):\n",
    "    output_vec = [(list1[i]-means[i])/var[i] for i in range(0,len(list1))]\n",
    "    return output_vec\n",
    "\n",
    "def cos_sim(vec1,vec2):\n",
    "    a = dot(vec1, vec2)/(norm(vec1)*norm(vec2))\n",
    "    return a\n",
    "\n",
    "def give_author_suggestion_from_author(writer_feature_subsection, author):\n",
    "    norm_feature_df = normalize_df(writer_feature_subsection)\n",
    "    authors = norm_feature_df['author_list'].tolist()\n",
    "    if author not in authors:\n",
    "        return 'blah'\n",
    "    else:\n",
    "        idx = authors.index(author)\n",
    "        norm_vec = norm_feature_df.iloc[idx][:-1]\n",
    "        # do similarity test\n",
    "        similarity_vec = []\n",
    "        for i in range(0,len(authors)):\n",
    "            vec1 = norm_feature_df.iloc[i,:-1].values\n",
    "            result1 = cos_sim(vec1, norm_vec)\n",
    "            similarity_vec.append(round(result1*10,2)) # multiply bu 10 to scale\n",
    "        tdf = pd.DataFrame.from_dict({'similarity': similarity_vec, 'authors': authors})\n",
    "        output_df = tdf.sort_values(by='similarity', ascending=False)\n",
    "        return output_df"
   ]
  },
  {
   "cell_type": "code",
   "execution_count": 3,
   "metadata": {},
   "outputs": [],
   "source": [
    "# data load from muckrack\n",
    "with open('/Users/rohanramesh/Documents/Insight/data_bball_writers/Attempt3_mr_scrape.pickle', 'rb') as handle:\n",
    "    scrapevar = pickle.load(handle)\n",
    "    \n",
    "# load writer df\n",
    "with open('/Users/rohanramesh/Documents/Insight/data_bball_writers/writer_df.pickle', 'rb') as handle:\n",
    "    writer_df = pickle.load(handle)"
   ]
  },
  {
   "cell_type": "code",
   "execution_count": 4,
   "metadata": {},
   "outputs": [],
   "source": [
    "# Establish connection with database for individual article content\n",
    "client = MongoClient()\n",
    "mydb = client[\"testinsightdb\"]"
   ]
  },
  {
   "cell_type": "code",
   "execution_count": 5,
   "metadata": {},
   "outputs": [
    {
     "name": "stdout",
     "output_type": "stream",
     "text": [
      "postgres://rohanramesh@localhost/writer_feature_db\n",
      "True\n"
     ]
    }
   ],
   "source": [
    "# establish connection for writer feature db\n",
    "dbname = 'writer_feature_db'\n",
    "username = 'rohanramesh' # change this to your username\n",
    "engine = create_engine('postgres://%s@localhost/%s'%(username,dbname))\n",
    "print(engine.url)\n",
    "if not database_exists(engine.url):\n",
    "    create_database(engine.url)\n",
    "print(database_exists(engine.url))\n",
    "con = None\n",
    "con = psycopg2.connect(database = dbname, user = username)"
   ]
  },
  {
   "cell_type": "code",
   "execution_count": 73,
   "metadata": {},
   "outputs": [],
   "source": [
    "# pull from database about writer features\n",
    "sql_query = \"\"\"\n",
    "SELECT AVG(\"n_words\") AS \"avg_n_words\",\n",
    "         AVG(\"neg_sent\") AS \"avg_neg_sent\",\n",
    "         AVG(\"neu_sent\") AS \"avg_neu_sent\",\n",
    "         AVG(\"pos_sent\") AS \"avg_pos_sent\",\n",
    "         AVG(\"neg_sent_var\") AS \"avg_neg_sent_var\",\n",
    "         AVG(\"neu_sent_var\") AS \"avg_neu_sent_var\",\n",
    "         AVG(\"pos_sent_var\") AS \"avg_pos_sent_var\",\n",
    "        AVG(\"n_sentences\") AS \"avg_n_sentences\",\n",
    "        AVG(\"n_wordspersentence\") AS \"avg_n_wordspersentence\",\n",
    "        AVG(\"n_wordspersent_variability\") AS \"avg_n_wordspersent_variability\",\n",
    "        AVG(\"wordlength\") AS \"avg_wordlength\",\n",
    "        AVG(\"wordlength_var\") AS \"avg_wordlength_var\",\n",
    "        AVG(\"wordlength_skew\") AS \"avg_wordlength_skew\",\n",
    "        \"author_list\"\n",
    "FROM writer_feature\n",
    "WHERE \"n_words\" > 100\n",
    "GROUP BY \"author_list\"\n",
    "HAVING COUNT(*) > 25 \n",
    "ORDER BY AVG(\"n_words\") DESC\n",
    "\"\"\"\n",
    "writer_feature_subsection = pd.read_sql_query(sql_query,con)\n",
    "writer_feature_subsection.head(10)\n",
    "writer_feature_subsection.replace([np.inf, -np.inf], np.nan)\n",
    "writer_feature_subsection = writer_feature_subsection.dropna(axis=0, how='any')\n",
    "norm_writer_feature_subsection = normalize_df(writer_feature_subsection)"
   ]
  },
  {
   "cell_type": "code",
   "execution_count": 71,
   "metadata": {},
   "outputs": [
    {
     "ename": "NameError",
     "evalue": "name 'writer_feature' is not defined",
     "output_type": "error",
     "traceback": [
      "\u001b[0;31m---------------------------------------------------------------------------\u001b[0m",
      "\u001b[0;31mNameError\u001b[0m                                 Traceback (most recent call last)",
      "\u001b[0;32m<ipython-input-71-7e5fe5aebe69>\u001b[0m in \u001b[0;36m<module>\u001b[0;34m()\u001b[0m\n\u001b[0;32m----> 1\u001b[0;31m \u001b[0mwriter_feature\u001b[0m\u001b[0;34m.\u001b[0m\u001b[0mkeys\u001b[0m\u001b[0;34m\u001b[0m\u001b[0m\n\u001b[0m",
      "\u001b[0;31mNameError\u001b[0m: name 'writer_feature' is not defined"
     ]
    }
   ],
   "source": [
    "writer_feature_subsection.keys"
   ]
  },
  {
   "cell_type": "code",
   "execution_count": 22,
   "metadata": {},
   "outputs": [
    {
     "name": "stdout",
     "output_type": "stream",
     "text": [
      "True\n"
     ]
    }
   ],
   "source": [
    "# build db for writer rankings\n",
    "writer_rankings_df = pd.read_csv('/Users/rohanramesh/Documents/Insight/data_bball_writers/writers.csv')\n",
    "writer_rankings_df.head()\n",
    "if not database_exists(engine.url):\n",
    "    create_database(engine.url)\n",
    "print(database_exists(engine.url))\n",
    "# writer_rankings_df.to_sql('writer_rankings', engine, if_exists='replace')"
   ]
  },
  {
   "cell_type": "code",
   "execution_count": 7,
   "metadata": {},
   "outputs": [
    {
     "data": {
      "text/html": [
       "<div>\n",
       "<style scoped>\n",
       "    .dataframe tbody tr th:only-of-type {\n",
       "        vertical-align: middle;\n",
       "    }\n",
       "\n",
       "    .dataframe tbody tr th {\n",
       "        vertical-align: top;\n",
       "    }\n",
       "\n",
       "    .dataframe thead th {\n",
       "        text-align: right;\n",
       "    }\n",
       "</style>\n",
       "<table border=\"1\" class=\"dataframe\">\n",
       "  <thead>\n",
       "    <tr style=\"text-align: right;\">\n",
       "      <th></th>\n",
       "      <th>index</th>\n",
       "      <th>Wikisurvey ID</th>\n",
       "      <th>Idea ID</th>\n",
       "      <th>Idea Text</th>\n",
       "      <th>Wins</th>\n",
       "      <th>Losses</th>\n",
       "      <th>Times involved in Cant Decide</th>\n",
       "      <th>Score</th>\n",
       "      <th>User Submitted</th>\n",
       "      <th>Session ID</th>\n",
       "      <th>Created at</th>\n",
       "      <th>Last Activity</th>\n",
       "      <th>Active</th>\n",
       "      <th>Appearances on Left</th>\n",
       "      <th>Appearances on Right</th>\n",
       "      <th>Info</th>\n",
       "    </tr>\n",
       "  </thead>\n",
       "  <tbody>\n",
       "    <tr>\n",
       "      <th>0</th>\n",
       "      <td>0</td>\n",
       "      <td>11361</td>\n",
       "      <td>693716</td>\n",
       "      <td>Zach Lowe</td>\n",
       "      <td>2951</td>\n",
       "      <td>288</td>\n",
       "      <td>100</td>\n",
       "      <td>91.0830</td>\n",
       "      <td>False</td>\n",
       "      <td>5012316</td>\n",
       "      <td>2017-09-13 15:28:25 UTC</td>\n",
       "      <td>2017-10-03 01:44:17 UTC</td>\n",
       "      <td>True</td>\n",
       "      <td>1821</td>\n",
       "      <td>1908</td>\n",
       "      <td>None</td>\n",
       "    </tr>\n",
       "    <tr>\n",
       "      <th>1</th>\n",
       "      <td>1</td>\n",
       "      <td>11361</td>\n",
       "      <td>693715</td>\n",
       "      <td>Adrian Wojnarowski</td>\n",
       "      <td>2457</td>\n",
       "      <td>732</td>\n",
       "      <td>118</td>\n",
       "      <td>77.0291</td>\n",
       "      <td>False</td>\n",
       "      <td>5012316</td>\n",
       "      <td>2017-09-13 15:28:25 UTC</td>\n",
       "      <td>2017-10-03 01:40:16 UTC</td>\n",
       "      <td>True</td>\n",
       "      <td>1855</td>\n",
       "      <td>1835</td>\n",
       "      <td>None</td>\n",
       "    </tr>\n",
       "    <tr>\n",
       "      <th>2</th>\n",
       "      <td>2</td>\n",
       "      <td>11361</td>\n",
       "      <td>693742</td>\n",
       "      <td>Lee Jenkins</td>\n",
       "      <td>2421</td>\n",
       "      <td>746</td>\n",
       "      <td>260</td>\n",
       "      <td>76.4279</td>\n",
       "      <td>False</td>\n",
       "      <td>5012316</td>\n",
       "      <td>2017-09-13 15:28:26 UTC</td>\n",
       "      <td>2017-10-03 01:43:04 UTC</td>\n",
       "      <td>True</td>\n",
       "      <td>1917</td>\n",
       "      <td>1841</td>\n",
       "      <td>None</td>\n",
       "    </tr>\n",
       "    <tr>\n",
       "      <th>3</th>\n",
       "      <td>3</td>\n",
       "      <td>11361</td>\n",
       "      <td>693755</td>\n",
       "      <td>Howard Beck</td>\n",
       "      <td>2425</td>\n",
       "      <td>748</td>\n",
       "      <td>186</td>\n",
       "      <td>76.4094</td>\n",
       "      <td>False</td>\n",
       "      <td>5012316</td>\n",
       "      <td>2017-09-13 15:28:26 UTC</td>\n",
       "      <td>2017-10-03 01:44:13 UTC</td>\n",
       "      <td>True</td>\n",
       "      <td>1839</td>\n",
       "      <td>1864</td>\n",
       "      <td>None</td>\n",
       "    </tr>\n",
       "    <tr>\n",
       "      <th>4</th>\n",
       "      <td>4</td>\n",
       "      <td>11361</td>\n",
       "      <td>693719</td>\n",
       "      <td>Marc Stein</td>\n",
       "      <td>2426</td>\n",
       "      <td>759</td>\n",
       "      <td>120</td>\n",
       "      <td>76.1531</td>\n",
       "      <td>False</td>\n",
       "      <td>5012316</td>\n",
       "      <td>2017-09-13 15:28:26 UTC</td>\n",
       "      <td>2017-10-03 01:44:11 UTC</td>\n",
       "      <td>True</td>\n",
       "      <td>1788</td>\n",
       "      <td>1898</td>\n",
       "      <td>None</td>\n",
       "    </tr>\n",
       "  </tbody>\n",
       "</table>\n",
       "</div>"
      ],
      "text/plain": [
       "   index  Wikisurvey ID  Idea ID           Idea Text  Wins  Losses  \\\n",
       "0      0          11361   693716           Zach Lowe  2951     288   \n",
       "1      1          11361   693715  Adrian Wojnarowski  2457     732   \n",
       "2      2          11361   693742         Lee Jenkins  2421     746   \n",
       "3      3          11361   693755         Howard Beck  2425     748   \n",
       "4      4          11361   693719          Marc Stein  2426     759   \n",
       "\n",
       "   Times involved in Cant Decide    Score  User Submitted  Session ID  \\\n",
       "0                            100  91.0830           False     5012316   \n",
       "1                            118  77.0291           False     5012316   \n",
       "2                            260  76.4279           False     5012316   \n",
       "3                            186  76.4094           False     5012316   \n",
       "4                            120  76.1531           False     5012316   \n",
       "\n",
       "                Created at            Last Activity  Active  \\\n",
       "0  2017-09-13 15:28:25 UTC  2017-10-03 01:44:17 UTC    True   \n",
       "1  2017-09-13 15:28:25 UTC  2017-10-03 01:40:16 UTC    True   \n",
       "2  2017-09-13 15:28:26 UTC  2017-10-03 01:43:04 UTC    True   \n",
       "3  2017-09-13 15:28:26 UTC  2017-10-03 01:44:13 UTC    True   \n",
       "4  2017-09-13 15:28:26 UTC  2017-10-03 01:44:11 UTC    True   \n",
       "\n",
       "   Appearances on Left  Appearances on Right  Info  \n",
       "0                 1821                  1908  None  \n",
       "1                 1855                  1835  None  \n",
       "2                 1917                  1841  None  \n",
       "3                 1839                  1864  None  \n",
       "4                 1788                  1898  None  "
      ]
     },
     "execution_count": 7,
     "metadata": {},
     "output_type": "execute_result"
    }
   ],
   "source": [
    "# get from writer rankings\n",
    "sql_query = \"\"\"\n",
    "SELECT *\n",
    "FROM writer_rankings\n",
    "\"\"\"\n",
    "writer_rankings_subsection = pd.read_sql_query(sql_query,con)\n",
    "writer_rankings_subsection.head()"
   ]
  },
  {
   "cell_type": "code",
   "execution_count": 8,
   "metadata": {},
   "outputs": [],
   "source": [
    "# need to look at difference in ranking vs cossim\n",
    "# first need to translate the orderered website names to real names\n",
    "authorlist = norm_writer_feature_subsection['author_list'].tolist()\n",
    "webnames = writer_df['website_name'].tolist()\n",
    "realnames = writer_df['Idea Text'].tolist()\n",
    "authorlist_no_web_ordered = [realnames[webnames.index(i)] for i in authorlist]\n",
    "# calculate the cos sim and popularity\n",
    "nvals = len(authorlist)\n",
    "matsim_feat = np.ndarray(shape=(nvals,nvals))\n",
    "matrankdiff = np.ndarray(shape=(nvals,nvals))\n",
    "for i in range(0,nvals):\n",
    "    author1 = authorlist_no_web_ordered[i]\n",
    "    idx_i = writer_rankings_subsection['Idea Text'].tolist().index(author1)\n",
    "    for j in range(0,nvals):\n",
    "        author2 = authorlist_no_web_ordered[j]\n",
    "        # for cos sim\n",
    "        vec1 = norm_writer_feature_subsection.iloc[i,:-1].values\n",
    "        vec2 = norm_writer_feature_subsection.iloc[j,:-1].values\n",
    "        result1 = cos_sim(vec1, vec2)\n",
    "        matsim_feat[i, j] = result1\n",
    "        # lets also do difference in index = ranking\n",
    "        idx_i = writer_rankings_subsection['Idea Text'].tolist().index(author1)\n",
    "        idx_j = writer_rankings_subsection['Idea Text'].tolist().index(author2)\n",
    "        matrankdiff[i,j] = abs(writer_rankings_subsection[\n",
    "            'index'].iloc[idx_i] - writer_rankings_subsection['index'].iloc[idx_j])"
   ]
  },
  {
   "cell_type": "code",
   "execution_count": 9,
   "metadata": {},
   "outputs": [],
   "source": [
    "corr_comp_cossim_diff = []\n",
    "for i in range(0,nvals):\n",
    "    for j in range(i+1,nvals):\n",
    "        corr_comp_cossim_diff.append([matsim_feat[i,j], matrankdiff[i,j]])\n",
    "        \n",
    "matsim_vec = [corr_comp_cossim_diff[i][0] for i in range(0,np.shape(corr_comp_cossim_diff)[0])]\n",
    "matrank_vec = [corr_comp_cossim_diff[i][1] for i in range(0,np.shape(corr_comp_cossim_diff)[0])]"
   ]
  },
  {
   "cell_type": "code",
   "execution_count": 10,
   "metadata": {},
   "outputs": [
    {
     "name": "stdout",
     "output_type": "stream",
     "text": [
      "[50.351724137931036, 33.44878350130246]\n",
      "[44.944839857651246, 31.096317195510803]\n",
      "[45.56, 32.57120200422453]\n",
      "[42.73900293255132, 31.30924981427282]\n",
      "[44.476190476190474, 30.618280895297282]\n",
      "[42.68372093023256, 30.42743251936597]\n",
      "[46.488069414316705, 32.809024219602605]\n",
      "[35.45029239766082, 27.210714208759036]\n"
     ]
    },
    {
     "data": {
      "image/png": "[encoded data removed]",
      "text/plain": [
       "<Figure size 432x288 with 1 Axes>"
      ]
     },
     "metadata": {
      "needs_background": "light"
     },
     "output_type": "display_data"
    }
   ],
   "source": [
    "plt.scatter(matsim_vec, matrank_vec, s=2)\n",
    "plt.xlabel('cos sim')\n",
    "plt.ylabel('ranking difference')\n",
    "\n",
    "bins_use = np.linspace(-1,1,9)\n",
    "for i in range(0,len(bins_use)-1):\n",
    "    r = [matrank_vec[j] for j in range(0,len(matsim_vec)) if \n",
    "         (matsim_vec[j] > bins_use[i]) & (matsim_vec[j] < bins_use[i+1])]\n",
    "    print([np.mean(r), np.std(r)])\n",
    "    \n",
    "first_5_ranking_diff = []\n",
    "rest_ranking_dff = []\n",
    "for curr_name in authorlist:\n",
    "    a = give_author_suggestion_from_author(writer_feature_subsection, curr_name)\n",
    "#     print(a.head())\n",
    "    # make list of authors\n",
    "    rank_auth = [authorlist.index(i) for i in a['authors'].tolist()]\n",
    "    # print(rank_auth[0:5])\n",
    "    # plt.plot(matrankdiff[authorlist.index(curr_name),rank_auth])\n",
    "    first_5_ranking_diff.append(np.mean(matrankdiff[authorlist.index(curr_name),rank_auth[1:3]]))\n",
    "    rest_ranking_dff.append(np.mean(matrankdiff[authorlist.index(curr_name),rank_auth[4:]]))"
   ]
  },
  {
   "cell_type": "code",
   "execution_count": 11,
   "metadata": {},
   "outputs": [
    {
     "name": "stdout",
     "output_type": "stream",
     "text": [
      "True\n"
     ]
    }
   ],
   "source": [
    "# lets load in individual votes and push to db\n",
    "# build db for writer rankings\n",
    "writer_h2h_df = pd.read_csv('/Users/rohanramesh/Documents/Insight/data_bball_writers/votes.csv')\n",
    "# print(writer_h2h_df.head())\n",
    "if not database_exists(engine.url):\n",
    "    create_database(engine.url)\n",
    "print(database_exists(engine.url))\n",
    "# writer_h2h_df.to_sql('writer_h2h', engine, if_exists='replace')\n"
   ]
  },
  {
   "cell_type": "code",
   "execution_count": 12,
   "metadata": {},
   "outputs": [],
   "source": [
    "# curr_name2 = 'Zach Lowe'\n",
    "# curr_name1 = 'Lee Jenkins'\n",
    "win_loss_h2h = {}\n",
    "for i in range(0,nvals):\n",
    "    curr_name1 = authorlist_no_web_ordered[i]\n",
    "    win_loss_h2h[curr_name1] = {}\n",
    "    for j in range(0,nvals):\n",
    "        curr_name2 = authorlist_no_web_ordered[j]\n",
    "        idx_win1 = (writer_h2h_df['Winner Text'] == curr_name1) & (writer_h2h_df['Loser Text'] == curr_name2)\n",
    "        idx_win2 = (writer_h2h_df['Winner Text'] == curr_name2) & (writer_h2h_df['Loser Text'] == curr_name1)\n",
    "        win_loss_h2h[curr_name1][curr_name2] = [len(np.where(idx_win1)[0]), len(np.where(idx_win2)[0])]"
   ]
  },
  {
   "cell_type": "code",
   "execution_count": 15,
   "metadata": {},
   "outputs": [
    {
     "name": "stdout",
     "output_type": "stream",
     "text": [
      "['steve-kyler', 'chris-ballard', 'lee-jenkins', 'dennis-chambers', 'jared-zwerling']\n",
      "['Steve Kyler', 'Chris Ballard', 'Lee Jenkins', 'Dennis Chambers', 'Jared Zwerling']\n"
     ]
    }
   ],
   "source": [
    "print(authorlist[0:5])\n",
    "print(authorlist_no_web_ordered[0:5])"
   ]
  },
  {
   "cell_type": "code",
   "execution_count": 63,
   "metadata": {},
   "outputs": [],
   "source": [
    "nrank_take = 5\n",
    "ranking_diff = []\n",
    "rest_ranking_dff = []\n",
    "# ii = 3\n",
    "for ii in range(0,len(authorlist)):\n",
    "    curr_name = authorlist[ii]\n",
    "    a = give_author_suggestion_from_author(writer_feature_subsection, curr_name)\n",
    "    # make list of authors\n",
    "    rank_auth = [authorlist.index(i) for i in a['authors'].tolist()]\n",
    "    # translate to full authornames\n",
    "    rank_auth2 = [authorlist_no_web_ordered[i] for i in rank_auth]\n",
    "    tmpranking = []\n",
    "    for r in range(1,nrank_take):\n",
    "        curr_pair = win_loss_h2h[authorlist_no_web_ordered[ii]][rank_auth2[r]]\n",
    "        tmpranking.append(abs(curr_pair[1]-curr_pair[0])/np.sum(curr_pair))\n",
    "    ranking_diff.append(np.median(tmpranking))\n",
    "    for r in range(nrank_take+1,len(authorlist)):\n",
    "        curr_pair = win_loss_h2h[authorlist_no_web_ordered[ii]][rank_auth2[r]]\n",
    "        tmpranking.append(abs(curr_pair[1]-curr_pair[0])/np.sum(curr_pair))\n",
    "    rest_ranking_dff.append(np.median(tmpranking[nrank_take+1:-1]))\n",
    "\n",
    "    # plt.plot(matrankdiff[authorlist.index(curr_name),rank_auth])\n",
    "#     first_5_ranking_diff.append(np.mean(matrankdiff[authorlist.index(curr_name),rank_auth[1:3]]))\n",
    "#     rest_ranking_dff.append(np.mean(matrankdiff[authorlist.index(curr_name),rank_auth[4:]]))"
   ]
  },
  {
   "cell_type": "code",
   "execution_count": 70,
   "metadata": {},
   "outputs": [
    {
     "data": {
      "text/plain": [
       "[<matplotlib.lines.Line2D at 0x10e690518>]"
      ]
     },
     "execution_count": 70,
     "metadata": {},
     "output_type": "execute_result"
    },
    {
     "data": {
      "image/png": "[encoded data removed]",
      "text/plain": [
       "<Figure size 432x288 with 1 Axes>"
      ]
     },
     "metadata": {
      "needs_background": "light"
     },
     "output_type": "display_data"
    }
   ],
   "source": [
    "plt.plot(ranking_diff)"
   ]
  },
  {
   "cell_type": "code",
   "execution_count": null,
   "metadata": {},
   "outputs": [],
   "source": []
  }
 ],
 "metadata": {
  "kernelspec": {
   "display_name": "Python 3",
   "language": "python",
   "name": "python3"
  },
  "language_info": {
   "codemirror_mode": {
    "name": "ipython",
    "version": 3
   },
   "file_extension": ".py",
   "mimetype": "text/x-python",
   "name": "python",
   "nbconvert_exporter": "python",
   "pygments_lexer": "ipython3",
   "version": "3.6.6"
  }
 },
 "nbformat": 4,
 "nbformat_minor": 2
}
