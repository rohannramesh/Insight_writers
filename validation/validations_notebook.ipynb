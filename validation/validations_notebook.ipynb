{
 "cells": [
  {
   "cell_type": "code",
   "execution_count": 1,
   "metadata": {},
   "outputs": [],
   "source": [
    "import numpy as np\n",
    "from IPython.core.debugger import set_trace\n",
    "import re\n",
    "import difflib\n",
    "import pandas as pd\n",
    "import matplotlib.pyplot as plt\n",
    "from bs4 import BeautifulSoup\n",
    "import requests\n",
    "import time\n",
    "import random\n",
    "import pickle\n",
    "from lxml.html import fromstring\n",
    "from collections import Counter\n",
    "from requests.packages.urllib3.util import Retry\n",
    "from requests.adapters import HTTPAdapter\n",
    "from requests import Session, exceptions\n",
    "import sys\n",
    "import pymongo\n",
    "from pymongo import MongoClient\n",
    "from newspaper import Article\n",
    "import json\n",
    "from string import digits\n",
    "from nltk.tokenize import sent_tokenize, word_tokenize\n",
    "import nltk\n",
    "from nltk.stem.porter import *\n",
    "from collections import Counter \n",
    "from nltk.corpus import wordnet # To get words in dictionary with their parts of speech\n",
    "from nltk.stem import WordNetLemmatizer # lemmatizes word based on it's parts of speech\n",
    "from nltk.corpus import stopwords \n",
    "from textblob import TextBlob\n",
    "import spacy\n",
    "from vaderSentiment.vaderSentiment import SentimentIntensityAnalyzer\n",
    "from nltk.corpus import cmudict\n",
    "from sklearn.feature_extraction.text import TfidfVectorizer\n",
    "import gensim\n",
    "from langdetect import detect\n",
    "from numpy import dot\n",
    "from numpy.linalg import norm\n",
    "from sqlalchemy import create_engine\n",
    "from sqlalchemy_utils import database_exists, create_database\n",
    "import psycopg2\n",
    "sys.path.append(\"/Users/rohanramesh/Documents/GitHub/Insight_writers/lib/\")\n",
    "from text_processing import ProcessArticle as pa\n",
    "import suggestions as s"
   ]
  },
  {
   "cell_type": "code",
   "execution_count": 8,
   "metadata": {},
   "outputs": [],
   "source": [
    "# normalize new df\n",
    "def normalize_df(df):\n",
    "    result = df.copy()\n",
    "    for feature_name in df.columns:\n",
    "        if isinstance(df[feature_name][0], str):\n",
    "            continue\n",
    "        max_value = df[feature_name].max()\n",
    "        min_value = df[feature_name].min()\n",
    "#         result[feature_name] = (df[feature_name] - min_value) / (max_value - min_value)\n",
    "        result[feature_name] = (df[feature_name] - df[feature_name].mean()) / (df[feature_name].std())\n",
    "#         result[feature_name] = (df[feature_name]) / norm(df[feature_name])\n",
    "    return result\n",
    "\n",
    "# same normalization but on vector\n",
    "def normalize_vec(list1, means, var):\n",
    "    output_vec = [(list1[i]-means[i])/var[i] for i in range(0,len(list1))]\n",
    "    return output_vec\n",
    "\n",
    "def cos_sim(vec1,vec2):\n",
    "    a = dot(vec1, vec2)/(norm(vec1)*norm(vec2))\n",
    "    return a\n",
    "\n",
    "def give_author_suggestion_from_author(writer_feature_subsection, author):\n",
    "    norm_feature_df = normalize_df(writer_feature_subsection)\n",
    "    authors = norm_feature_df['author_list'].tolist()\n",
    "    if author not in authors:\n",
    "        return 'blah'\n",
    "    else:\n",
    "        idx = authors.index(author)\n",
    "        norm_vec = norm_feature_df.iloc[idx][:-1]\n",
    "        # do similarity test\n",
    "        similarity_vec = []\n",
    "        for i in range(0,len(authors)):\n",
    "            vec1 = norm_feature_df.iloc[i,:-1].values\n",
    "            result1 = cos_sim(vec1, norm_vec)\n",
    "            similarity_vec.append(round(result1*10,2)) # multiply bu 10 to scale\n",
    "        tdf = pd.DataFrame.from_dict({'similarity': similarity_vec, 'authors': authors})\n",
    "        output_df = tdf.sort_values(by='similarity', ascending=False)\n",
    "        return output_df"
   ]
  },
  {
   "cell_type": "code",
   "execution_count": 2,
   "metadata": {},
   "outputs": [],
   "source": [
    "# data load from muckrack\n",
    "with open('/Users/rohanramesh/Documents/Insight/data_bball_writers/Attempt3_mr_scrape.pickle', 'rb') as handle:\n",
    "    scrapevar = pickle.load(handle)\n",
    "    \n",
    "# load writer df\n",
    "with open('/Users/rohanramesh/Documents/Insight/data_bball_writers/writer_df.pickle', 'rb') as handle:\n",
    "    writer_df = pickle.load(handle)"
   ]
  },
  {
   "cell_type": "code",
   "execution_count": 3,
   "metadata": {},
   "outputs": [],
   "source": [
    "# Establish connection with database for individual article content\n",
    "client = MongoClient()\n",
    "mydb = client[\"testinsightdb\"]"
   ]
  },
  {
   "cell_type": "code",
   "execution_count": 4,
   "metadata": {},
   "outputs": [
    {
     "name": "stdout",
     "output_type": "stream",
     "text": [
      "postgres://rohanramesh@localhost/writer_feature_db\n",
      "True\n"
     ]
    }
   ],
   "source": [
    "# establish connection for writer feature db\n",
    "dbname = 'writer_feature_db'\n",
    "username = 'rohanramesh' # change this to your username\n",
    "engine = create_engine('postgres://%s@localhost/%s'%(username,dbname))\n",
    "print(engine.url)\n",
    "if not database_exists(engine.url):\n",
    "    create_database(engine.url)\n",
    "print(database_exists(engine.url))\n",
    "con = None\n",
    "con = psycopg2.connect(database = dbname, user = username)"
   ]
  },
  {
   "cell_type": "code",
   "execution_count": 5,
   "metadata": {},
   "outputs": [],
   "source": [
    "# pull from database about writer features\n",
    "sql_query = \"\"\"\n",
    "SELECT AVG(\"n_words\") AS \"avg_n_words\",\n",
    "         AVG(\"neg_sent\") AS \"avg_neg_sent\",\n",
    "         AVG(\"neu_sent\") AS \"avg_neu_sent\",\n",
    "         AVG(\"pos_sent\") AS \"avg_pos_sent\",\n",
    "         AVG(\"neg_sent_var\") AS \"avg_neg_sent_var\",\n",
    "         AVG(\"neu_sent_var\") AS \"avg_neu_sent_var\",\n",
    "         AVG(\"pos_sent_var\") AS \"avg_pos_sent_var\",\n",
    "        AVG(\"n_sentences\") AS \"avg_n_sentences\",\n",
    "        AVG(\"n_wordspersentence\") AS \"avg_n_wordspersentence\",\n",
    "        AVG(\"n_wordspersent_variability\") AS \"avg_n_wordspersent_variability\",\n",
    "        AVG(\"wordlength\") AS \"avg_wordlength\",\n",
    "        AVG(\"wordlength_var\") AS \"avg_wordlength_var\",\n",
    "        AVG(\"wordlength_skew\") AS \"avg_wordlength_skew\",\n",
    "        \"author_list\"\n",
    "FROM writer_feature\n",
    "WHERE \"n_words\" > 100\n",
    "GROUP BY \"author_list\"\n",
    "HAVING COUNT(*) > 25 \n",
    "ORDER BY AVG(\"n_words\") DESC\n",
    "\"\"\"\n",
    "writer_feature_subsection = pd.read_sql_query(sql_query,con)\n",
    "writer_feature_subsection.head(10)\n",
    "writer_feature_subsection.replace([np.inf, -np.inf], np.nan)\n",
    "writer_feature_subsection = writer_feature_subsection.dropna(axis=0, how='any')\n",
    "norm_writer_feature_subsection = s.normalize_df(writer_feature_subsection)"
   ]
  },
  {
   "cell_type": "code",
   "execution_count": 11,
   "metadata": {},
   "outputs": [
    {
     "data": {
      "text/plain": [
       "Index(['avg_n_words', 'avg_neg_sent', 'avg_neu_sent', 'avg_pos_sent',\n",
       "       'avg_neg_sent_var', 'avg_neu_sent_var', 'avg_pos_sent_var',\n",
       "       'avg_n_sentences', 'avg_n_wordspersentence',\n",
       "       'avg_n_wordspersent_variability', 'avg_wordlength',\n",
       "       'avg_wordlength_var', 'avg_wordlength_skew', 'author_list'],\n",
       "      dtype='object')"
      ]
     },
     "execution_count": 11,
     "metadata": {},
     "output_type": "execute_result"
    }
   ],
   "source": [
    "writer_feature_subsection.keys()"
   ]
  },
  {
   "cell_type": "code",
   "execution_count": 22,
   "metadata": {},
   "outputs": [
    {
     "name": "stdout",
     "output_type": "stream",
     "text": [
      "True\n"
     ]
    }
   ],
   "source": [
    "# build db for writer rankings\n",
    "writer_rankings_df = pd.read_csv('/Users/rohanramesh/Documents/Insight/data_bball_writers/writers.csv')\n",
    "writer_rankings_df.head()\n",
    "if not database_exists(engine.url):\n",
    "    create_database(engine.url)\n",
    "print(database_exists(engine.url))\n",
    "# writer_rankings_df.to_sql('writer_rankings', engine, if_exists='replace')"
   ]
  },
  {
   "cell_type": "code",
   "execution_count": 7,
   "metadata": {},
   "outputs": [
    {
     "data": {
      "text/html": [
       "<div>\n",
       "<style scoped>\n",
       "    .dataframe tbody tr th:only-of-type {\n",
       "        vertical-align: middle;\n",
       "    }\n",
       "\n",
       "    .dataframe tbody tr th {\n",
       "        vertical-align: top;\n",
       "    }\n",
       "\n",
       "    .dataframe thead th {\n",
       "        text-align: right;\n",
       "    }\n",
       "</style>\n",
       "<table border=\"1\" class=\"dataframe\">\n",
       "  <thead>\n",
       "    <tr style=\"text-align: right;\">\n",
       "      <th></th>\n",
       "      <th>index</th>\n",
       "      <th>Wikisurvey ID</th>\n",
       "      <th>Idea ID</th>\n",
       "      <th>Idea Text</th>\n",
       "      <th>Wins</th>\n",
       "      <th>Losses</th>\n",
       "      <th>Times involved in Cant Decide</th>\n",
       "      <th>Score</th>\n",
       "      <th>User Submitted</th>\n",
       "      <th>Session ID</th>\n",
       "      <th>Created at</th>\n",
       "      <th>Last Activity</th>\n",
       "      <th>Active</th>\n",
       "      <th>Appearances on Left</th>\n",
       "      <th>Appearances on Right</th>\n",
       "      <th>Info</th>\n",
       "    </tr>\n",
       "  </thead>\n",
       "  <tbody>\n",
       "    <tr>\n",
       "      <th>0</th>\n",
       "      <td>0</td>\n",
       "      <td>11361</td>\n",
       "      <td>693716</td>\n",
       "      <td>Zach Lowe</td>\n",
       "      <td>2951</td>\n",
       "      <td>288</td>\n",
       "      <td>100</td>\n",
       "      <td>91.0830</td>\n",
       "      <td>False</td>\n",
       "      <td>5012316</td>\n",
       "      <td>2017-09-13 15:28:25 UTC</td>\n",
       "      <td>2017-10-03 01:44:17 UTC</td>\n",
       "      <td>True</td>\n",
       "      <td>1821</td>\n",
       "      <td>1908</td>\n",
       "      <td>None</td>\n",
       "    </tr>\n",
       "    <tr>\n",
       "      <th>1</th>\n",
       "      <td>1</td>\n",
       "      <td>11361</td>\n",
       "      <td>693715</td>\n",
       "      <td>Adrian Wojnarowski</td>\n",
       "      <td>2457</td>\n",
       "      <td>732</td>\n",
       "      <td>118</td>\n",
       "      <td>77.0291</td>\n",
       "      <td>False</td>\n",
       "      <td>5012316</td>\n",
       "      <td>2017-09-13 15:28:25 UTC</td>\n",
       "      <td>2017-10-03 01:40:16 UTC</td>\n",
       "      <td>True</td>\n",
       "      <td>1855</td>\n",
       "      <td>1835</td>\n",
       "      <td>None</td>\n",
       "    </tr>\n",
       "    <tr>\n",
       "      <th>2</th>\n",
       "      <td>2</td>\n",
       "      <td>11361</td>\n",
       "      <td>693742</td>\n",
       "      <td>Lee Jenkins</td>\n",
       "      <td>2421</td>\n",
       "      <td>746</td>\n",
       "      <td>260</td>\n",
       "      <td>76.4279</td>\n",
       "      <td>False</td>\n",
       "      <td>5012316</td>\n",
       "      <td>2017-09-13 15:28:26 UTC</td>\n",
       "      <td>2017-10-03 01:43:04 UTC</td>\n",
       "      <td>True</td>\n",
       "      <td>1917</td>\n",
       "      <td>1841</td>\n",
       "      <td>None</td>\n",
       "    </tr>\n",
       "    <tr>\n",
       "      <th>3</th>\n",
       "      <td>3</td>\n",
       "      <td>11361</td>\n",
       "      <td>693755</td>\n",
       "      <td>Howard Beck</td>\n",
       "      <td>2425</td>\n",
       "      <td>748</td>\n",
       "      <td>186</td>\n",
       "      <td>76.4094</td>\n",
       "      <td>False</td>\n",
       "      <td>5012316</td>\n",
       "      <td>2017-09-13 15:28:26 UTC</td>\n",
       "      <td>2017-10-03 01:44:13 UTC</td>\n",
       "      <td>True</td>\n",
       "      <td>1839</td>\n",
       "      <td>1864</td>\n",
       "      <td>None</td>\n",
       "    </tr>\n",
       "    <tr>\n",
       "      <th>4</th>\n",
       "      <td>4</td>\n",
       "      <td>11361</td>\n",
       "      <td>693719</td>\n",
       "      <td>Marc Stein</td>\n",
       "      <td>2426</td>\n",
       "      <td>759</td>\n",
       "      <td>120</td>\n",
       "      <td>76.1531</td>\n",
       "      <td>False</td>\n",
       "      <td>5012316</td>\n",
       "      <td>2017-09-13 15:28:26 UTC</td>\n",
       "      <td>2017-10-03 01:44:11 UTC</td>\n",
       "      <td>True</td>\n",
       "      <td>1788</td>\n",
       "      <td>1898</td>\n",
       "      <td>None</td>\n",
       "    </tr>\n",
       "  </tbody>\n",
       "</table>\n",
       "</div>"
      ],
      "text/plain": [
       "   index  Wikisurvey ID  Idea ID           Idea Text  Wins  Losses  \\\n",
       "0      0          11361   693716           Zach Lowe  2951     288   \n",
       "1      1          11361   693715  Adrian Wojnarowski  2457     732   \n",
       "2      2          11361   693742         Lee Jenkins  2421     746   \n",
       "3      3          11361   693755         Howard Beck  2425     748   \n",
       "4      4          11361   693719          Marc Stein  2426     759   \n",
       "\n",
       "   Times involved in Cant Decide    Score  User Submitted  Session ID  \\\n",
       "0                            100  91.0830           False     5012316   \n",
       "1                            118  77.0291           False     5012316   \n",
       "2                            260  76.4279           False     5012316   \n",
       "3                            186  76.4094           False     5012316   \n",
       "4                            120  76.1531           False     5012316   \n",
       "\n",
       "                Created at            Last Activity  Active  \\\n",
       "0  2017-09-13 15:28:25 UTC  2017-10-03 01:44:17 UTC    True   \n",
       "1  2017-09-13 15:28:25 UTC  2017-10-03 01:40:16 UTC    True   \n",
       "2  2017-09-13 15:28:26 UTC  2017-10-03 01:43:04 UTC    True   \n",
       "3  2017-09-13 15:28:26 UTC  2017-10-03 01:44:13 UTC    True   \n",
       "4  2017-09-13 15:28:26 UTC  2017-10-03 01:44:11 UTC    True   \n",
       "\n",
       "   Appearances on Left  Appearances on Right  Info  \n",
       "0                 1821                  1908  None  \n",
       "1                 1855                  1835  None  \n",
       "2                 1917                  1841  None  \n",
       "3                 1839                  1864  None  \n",
       "4                 1788                  1898  None  "
      ]
     },
     "execution_count": 7,
     "metadata": {},
     "output_type": "execute_result"
    }
   ],
   "source": [
    "# get from writer rankings\n",
    "sql_query = \"\"\"\n",
    "SELECT *\n",
    "FROM writer_rankings\n",
    "\"\"\"\n",
    "writer_rankings_subsection = pd.read_sql_query(sql_query,con)\n",
    "writer_rankings_subsection.head()"
   ]
  },
  {
   "cell_type": "code",
   "execution_count": 8,
   "metadata": {},
   "outputs": [],
   "source": [
    "# need to look at difference in ranking vs cossim\n",
    "# first need to translate the orderered website names to real names\n",
    "\n",
    "webnames = writer_df['website_name'].tolist()\n",
    "realnames = writer_df['Idea Text'].tolist()\n",
    "authorlist_no_web_ordered = [realnames[webnames.index(i)] for i in authorlist]\n",
    "# calculate the cos sim and popularity\n",
    "nvals = len(authorlist)\n",
    "matsim_feat = np.ndarray(shape=(nvals,nvals))\n",
    "matrankdiff = np.ndarray(shape=(nvals,nvals))\n",
    "for i in range(0,nvals):\n",
    "    author1 = authorlist_no_web_ordered[i]\n",
    "    idx_i = writer_rankings_subsection['Idea Text'].tolist().index(author1)\n",
    "    for j in range(0,nvals):\n",
    "        author2 = authorlist_no_web_ordered[j]\n",
    "        # for cos sim\n",
    "        vec1 = norm_writer_feature_subsection.iloc[i,:-1].values\n",
    "        vec2 = norm_writer_feature_subsection.iloc[j,:-1].values\n",
    "        result1 = cos_sim(vec1, vec2)\n",
    "        matsim_feat[i, j] = result1\n",
    "        # lets also do difference in index = ranking\n",
    "        idx_i = writer_rankings_subsection['Idea Text'].tolist().index(author1)\n",
    "        idx_j = writer_rankings_subsection['Idea Text'].tolist().index(author2)\n",
    "        matrankdiff[i,j] = abs(writer_rankings_subsection[\n",
    "            'index'].iloc[idx_i] - writer_rankings_subsection['index'].iloc[idx_j])"
   ]
  },
  {
   "cell_type": "code",
   "execution_count": 9,
   "metadata": {},
   "outputs": [],
   "source": [
    "corr_comp_cossim_diff = []\n",
    "for i in range(0,nvals):\n",
    "    for j in range(i+1,nvals):\n",
    "        corr_comp_cossim_diff.append([matsim_feat[i,j], matrankdiff[i,j]])\n",
    "        \n",
    "matsim_vec = [corr_comp_cossim_diff[i][0] for i in range(0,np.shape(corr_comp_cossim_diff)[0])]\n",
    "matrank_vec = [corr_comp_cossim_diff[i][1] for i in range(0,np.shape(corr_comp_cossim_diff)[0])]"
   ]
  },
  {
   "cell_type": "code",
   "execution_count": 10,
   "metadata": {},
   "outputs": [
    {
     "name": "stdout",
     "output_type": "stream",
     "text": [
      "[50.351724137931036, 33.44878350130246]\n",
      "[44.944839857651246, 31.096317195510803]\n",
      "[45.56, 32.57120200422453]\n",
      "[42.73900293255132, 31.30924981427282]\n",
      "[44.476190476190474, 30.618280895297282]\n",
      "[42.68372093023256, 30.42743251936597]\n",
      "[46.488069414316705, 32.809024219602605]\n",
      "[35.45029239766082, 27.210714208759036]\n"
     ]
    },
    {
     "data": {
      "image/png": "[encoded data removed]",
      "text/plain": [
       "<Figure size 432x288 with 1 Axes>"
      ]
     },
     "metadata": {
      "needs_background": "light"
     },
     "output_type": "display_data"
    }
   ],
   "source": [
    "plt.scatter(matsim_vec, matrank_vec, s=2)\n",
    "plt.xlabel('cos sim')\n",
    "plt.ylabel('ranking difference')\n",
    "\n",
    "bins_use = np.linspace(-1,1,9)\n",
    "for i in range(0,len(bins_use)-1):\n",
    "    r = [matrank_vec[j] for j in range(0,len(matsim_vec)) if \n",
    "         (matsim_vec[j] > bins_use[i]) & (matsim_vec[j] < bins_use[i+1])]\n",
    "    print([np.mean(r), np.std(r)])\n",
    "    \n",
    "first_5_ranking_diff = []\n",
    "rest_ranking_dff = []\n",
    "for curr_name in authorlist:\n",
    "    a = give_author_suggestion_from_author(writer_feature_subsection, curr_name)\n",
    "#     print(a.head())\n",
    "    # make list of authors\n",
    "    rank_auth = [authorlist.index(i) for i in a['authors'].tolist()]\n",
    "    # print(rank_auth[0:5])\n",
    "    # plt.plot(matrankdiff[authorlist.index(curr_name),rank_auth])\n",
    "    first_5_ranking_diff.append(np.mean(matrankdiff[authorlist.index(curr_name),rank_auth[1:3]]))\n",
    "    rest_ranking_dff.append(np.mean(matrankdiff[authorlist.index(curr_name),rank_auth[4:]]))"
   ]
  },
  {
   "cell_type": "code",
   "execution_count": 5,
   "metadata": {},
   "outputs": [
    {
     "name": "stdout",
     "output_type": "stream",
     "text": [
      "True\n"
     ]
    }
   ],
   "source": [
    "# lets load in individual votes and push to db\n",
    "# build db for writer rankings\n",
    "writer_h2h_df = pd.read_csv('/Users/rohanramesh/Documents/Insight/data_bball_writers/votes.csv')\n",
    "# print(writer_h2h_df.head())\n",
    "if not database_exists(engine.url):\n",
    "    create_database(engine.url)\n",
    "print(database_exists(engine.url))\n",
    "# writer_h2h_df.to_sql('writer_h2h', engine, if_exists='replace')\n"
   ]
  },
  {
   "cell_type": "code",
   "execution_count": 12,
   "metadata": {},
   "outputs": [],
   "source": [
    "# curr_name2 = 'Zach Lowe'\n",
    "# curr_name1 = 'Lee Jenkins'\n",
    "win_loss_h2h = {}\n",
    "for i in range(0,nvals):\n",
    "    curr_name1 = authorlist_no_web_ordered[i]\n",
    "    win_loss_h2h[curr_name1] = {}\n",
    "    for j in range(0,nvals):\n",
    "        curr_name2 = authorlist_no_web_ordered[j]\n",
    "        idx_win1 = (writer_h2h_df['Winner Text'] == curr_name1) & (writer_h2h_df['Loser Text'] == curr_name2)\n",
    "        idx_win2 = (writer_h2h_df['Winner Text'] == curr_name2) & (writer_h2h_df['Loser Text'] == curr_name1)\n",
    "        win_loss_h2h[curr_name1][curr_name2] = [len(np.where(idx_win1)[0]), len(np.where(idx_win2)[0])]"
   ]
  },
  {
   "cell_type": "code",
   "execution_count": 15,
   "metadata": {},
   "outputs": [
    {
     "name": "stdout",
     "output_type": "stream",
     "text": [
      "['steve-kyler', 'chris-ballard', 'lee-jenkins', 'dennis-chambers', 'jared-zwerling']\n",
      "['Steve Kyler', 'Chris Ballard', 'Lee Jenkins', 'Dennis Chambers', 'Jared Zwerling']\n"
     ]
    }
   ],
   "source": [
    "print(authorlist[0:5])\n",
    "print(authorlist_no_web_ordered[0:5])"
   ]
  },
  {
   "cell_type": "code",
   "execution_count": 63,
   "metadata": {},
   "outputs": [],
   "source": [
    "nrank_take = 5\n",
    "ranking_diff = []\n",
    "rest_ranking_dff = []\n",
    "# ii = 3\n",
    "for ii in range(0,len(authorlist)):\n",
    "    curr_name = authorlist[ii]\n",
    "    a = give_author_suggestion_from_author(writer_feature_subsection, curr_name)\n",
    "    # make list of authors\n",
    "    rank_auth = [authorlist.index(i) for i in a['authors'].tolist()]\n",
    "    # translate to full authornames\n",
    "    rank_auth2 = [authorlist_no_web_ordered[i] for i in rank_auth]\n",
    "    tmpranking = []\n",
    "    for r in range(1,nrank_take):\n",
    "        curr_pair = win_loss_h2h[authorlist_no_web_ordered[ii]][rank_auth2[r]]\n",
    "        tmpranking.append(abs(curr_pair[1]-curr_pair[0])/np.sum(curr_pair))\n",
    "    ranking_diff.append(np.median(tmpranking))\n",
    "    for r in range(nrank_take+1,len(authorlist)):\n",
    "        curr_pair = win_loss_h2h[authorlist_no_web_ordered[ii]][rank_auth2[r]]\n",
    "        tmpranking.append(abs(curr_pair[1]-curr_pair[0])/np.sum(curr_pair))\n",
    "    rest_ranking_dff.append(np.median(tmpranking[nrank_take+1:-1]))\n",
    "\n",
    "    # plt.plot(matrankdiff[authorlist.index(curr_name),rank_auth])\n",
    "#     first_5_ranking_diff.append(np.mean(matrankdiff[authorlist.index(curr_name),rank_auth[1:3]]))\n",
    "#     rest_ranking_dff.append(np.mean(matrankdiff[authorlist.index(curr_name),rank_auth[4:]]))"
   ]
  },
  {
   "cell_type": "markdown",
   "metadata": {},
   "source": [
    "Look at how dividing article in half vs grabbing random article affects classification based on writer style or content"
   ]
  },
  {
   "cell_type": "code",
   "execution_count": 9,
   "metadata": {},
   "outputs": [],
   "source": [
    "# load word2vec model\n",
    "kv = gensim.models.KeyedVectors.load(\n",
    "    \"/Users/rohanramesh/Documents/Insight/data_bball_writers/word2vec_model_kv.kv\", mmap='r')\n",
    "# load word2vec df for comparisons\n",
    "w2v_df = pd.read_pickle('/Users/rohanramesh/Documents/Insight/data_bball_writers/word2vec_trained.pickle')\n"
   ]
  },
  {
   "cell_type": "code",
   "execution_count": 20,
   "metadata": {},
   "outputs": [],
   "source": [
    "def lemstr(txtstr):\n",
    "    \"\"\"\n",
    "    Lemmatize text string\n",
    "    :param writer_feature_subsection: df that has each row for an author and each column a feature\n",
    "    :param author: author name\n",
    "    :return:\n",
    "    \"\"\"\n",
    "    lz = WordNetLemmatizer()\n",
    "    newstr = [lz.lemmatize(curr_word, pa.get_pos(curr_word)) for curr_word in txtstr]\n",
    "    return newstr\n",
    "\n",
    "def cos_sim(vec1,vec2):\n",
    "    \"\"\"\n",
    "    Calculate cosine similarity between 2 vectors\n",
    "    \"\"\"\n",
    "    a = dot(vec1, vec2)/(norm(vec1)*norm(vec2))\n",
    "    return a\n",
    "\n",
    "def compare_content_two_articles(keyedvectors, w2v_df, article1, article2):\n",
    "    lem_art1 = lemstr(gensim.utils.simple_preprocess(article1))\n",
    "    lem_art2 = lemstr(gensim.utils.simple_preprocess(article2))\n",
    "    article_vector1 = get_vector_from_w2v_model(keyedvectors, lem_art1)\n",
    "    article_vector2 = get_vector_from_w2v_model(keyedvectors, lem_art2)\n",
    "    sim = cos_sim(article_vector1, article_vector2)\n",
    "    return sim\n",
    "\n",
    "def compare_style_two_articles(article1, article2, writer_feature_subsection):\n",
    "    curr1 = pa(article1)\n",
    "    vec1 = curr1.build_feature_vector_for_article()\n",
    "    norm_vec1 = normalize_vec(vec1, writer_feature_subsection.mean().tolist(),\n",
    "                             writer_feature_subsection.std().tolist())\n",
    "    curr2 = pa(article2)\n",
    "    vec2 = curr2.build_feature_vector_for_article()\n",
    "    norm_vec2 = normalize_vec(vec2, writer_feature_subsection.mean().tolist(),\n",
    "                             writer_feature_subsection.std().tolist())\n",
    "    sim = cos_sim(norm_vec1, norm_vec2)\n",
    "    return sim\n",
    "\n",
    "    \n",
    "def get_vector_from_w2v_model(keyedvectors, txtstr):\n",
    "    \"\"\"\n",
    "    Given a url from an article suggest other articles with similar content due to w2v\n",
    "    :param keyedvectors: low dimensional vectors from word2vec model\n",
    "    :param txtsr: text from article\n",
    "    :return: vector representation of article\n",
    "    \"\"\"\n",
    "    a = [r for r in txtstr if r in keyedvectors.vocab]\n",
    "    array_for_art = np.ndarray(shape=[len(a),keyedvectors.vector_size])\n",
    "    for i in range(0,len(a)):\n",
    "        array_for_art[i,:] = keyedvectors[a[i]]\n",
    "    article_vector = np.mean(array_for_art, axis=0)\n",
    "    return article_vector\n",
    "\n",
    "# same normalization but on vector\n",
    "def normalize_vec(list1, means, var):\n",
    "    \"\"\"\n",
    "    normalize a list\n",
    "    :param list1: list to be normalized\n",
    "    :param means: vector of means\n",
    "    :param var: vector of std\n",
    "    :return:\n",
    "    \"\"\"\n",
    "    output_vec = [(list1[i]-means[i])/var[i] for i in range(0,len(list1))]\n",
    "    return output_vec"
   ]
  },
  {
   "cell_type": "code",
   "execution_count": null,
   "metadata": {},
   "outputs": [
    {
     "name": "stdout",
     "output_type": "stream",
     "text": [
      "zachlowe_nba\n"
     ]
    },
    {
     "name": "stderr",
     "output_type": "stream",
     "text": [
      "/anaconda3/envs/insight_new/lib/python3.6/site-packages/ipykernel_launcher.py:14: DeprecationWarning: count is deprecated. Use Collection.count_documents instead.\n",
      "  \n",
      "/anaconda3/envs/insight_new/lib/python3.6/site-packages/ipykernel_launcher.py:42: DeprecationWarning: count is deprecated. Use Collection.count_documents instead.\n",
      "/anaconda3/envs/insight_new/lib/python3.6/site-packages/numpy/core/fromnumeric.py:2957: RuntimeWarning: Mean of empty slice.\n",
      "  out=out, **kwargs)\n",
      "/anaconda3/envs/insight_new/lib/python3.6/site-packages/numpy/core/_methods.py:73: RuntimeWarning: invalid value encountered in true_divide\n",
      "  ret, rcount, out=ret, casting='unsafe', subok=False)\n",
      "/anaconda3/envs/insight_new/lib/python3.6/site-packages/numpy/core/_methods.py:80: RuntimeWarning: invalid value encountered in double_scalars\n",
      "  ret = ret.dtype.type(ret / rcount)\n",
      "/anaconda3/envs/insight_new/lib/python3.6/site-packages/numpy/core/_methods.py:135: RuntimeWarning: Degrees of freedom <= 0 for slice\n",
      "  keepdims=keepdims)\n",
      "/anaconda3/envs/insight_new/lib/python3.6/site-packages/numpy/core/_methods.py:105: RuntimeWarning: invalid value encountered in true_divide\n",
      "  arrmean, rcount, out=arrmean, casting='unsafe', subok=False)\n",
      "/anaconda3/envs/insight_new/lib/python3.6/site-packages/numpy/core/_methods.py:127: RuntimeWarning: invalid value encountered in double_scalars\n",
      "  ret = ret.dtype.type(ret / rcount)\n"
     ]
    },
    {
     "name": "stdout",
     "output_type": "stream",
     "text": [
      "adrian-wojnarowski\n",
      "lee-jenkins\n",
      "howardbeck\n",
      "marc-stein\n",
      "ethan-sherwood-strauss\n",
      "jason-concepcion\n",
      "kevin-arnovitz\n",
      "tom-haberstroh\n",
      "nate-duncan\n",
      "zach-harper\n",
      "brian-windhorst\n",
      "sam_amick\n",
      "david-aldridge\n",
      "ramona-shelburne\n",
      "jpdabrams\n",
      "kevin-pelton\n",
      "marc-j-spears\n",
      "matt-moore\n",
      "shams-charania\n",
      "kevin-p-oconnor\n",
      "chris-haynes\n",
      "dave-mcmenamin\n",
      "shea-serrano\n",
      "ian-begley\n",
      "rachel-nichols\n",
      "ben-golliver\n",
      "mike-prada\n",
      "robmahoney\n",
      "tim-macmahon\n",
      "chris-herring\n",
      "billsimmons\n",
      "jonathan-tjarks\n",
      "amin-elhassen\n",
      "bobby-marks\n",
      "danny-leroux\n",
      "chris-mannix\n",
      "dan-devine\n",
      "michael-pina\n",
      "thompsonscribe\n",
      "ben-golliver\n",
      "ben-falk\n",
      "ian-levy\n",
      "tim-bontemps\n",
      "henry-abbott\n",
      "scott-rafferty\n",
      "ja-dubin\n",
      "michael-lee\n",
      "alex-kennedy\n",
      "derek-bodner\n",
      "tom-ziller\n",
      "chris-ballard\n",
      "josh-eberley\n",
      "adi-joseph\n",
      "adam-mares\n",
      "sam-vecenie\n",
      "meet-katie-nolan\n",
      "andrew-sharp\n",
      "david-thorpe\n",
      "royce-webb\n",
      "ericpincus\n",
      "nick-sciria\n",
      "paul-flannery\n",
      "timkawakami\n",
      "keith-smith\n",
      "joshrobbins\n",
      "jeff-zillgitt\n",
      "jon-krawczynski\n",
      "seerat-sohi\n",
      "israel-gutierrez\n",
      "ben-rohrbach\n",
      "mika-honkasalo\n",
      "ian-oconnor-1027184\n",
      "kevin-ferrigan\n",
      "chris-vernon\n",
      "trevor-magnotti\n",
      "mark-deeks\n",
      "ken-berger\n",
      "beckley-mason\n",
      "bob-ryan\n",
      "neil-paine\n",
      "jeff-siegel\n",
      "sam-amico\n",
      "mason-ginsberg\n",
      "britt-robson\n",
      "holly-mackenzie\n",
      "blake-murphy\n",
      "sam-esfandiari\n",
      "jade-hoye\n",
      "michael-grange\n",
      "ric-bucher\n",
      "kevin-parrish\n",
      "jared-zwerling\n",
      "frank-isola\n",
      "kacy-sager\n",
      "austin-hutchinson\n",
      "senthil-natarajan\n",
      "kaileigh-brandt\n",
      "trill-withers\n",
      "krishna-narsu\n",
      "chris-bernucca\n",
      "chris-sheridan\n",
      "scott-cacciola\n",
      "albert-nahmad\n",
      "showardcooper\n",
      "james-holas\n",
      "brady-klopfer\n",
      "josh-eberley\n",
      "rory-masterson\n",
      "grant-afseth\n",
      "rob-lopez\n",
      "justin-willard\n",
      "justin-hodges\n",
      "christian-rivas\n"
     ]
    }
   ],
   "source": [
    "authorlist = norm_writer_feature_subsection['author_list'].tolist()\n",
    "n_articles_test = 50\n",
    "n_articles_comp = 50\n",
    "n_boot_comp = 100\n",
    "similarity_within_author = {}\n",
    "baseline_across_author = {}\n",
    "for ii in range(0,np.shape(writer_df)[0]):\n",
    "    curr_name = writer_df['website_name'][ii]\n",
    "    curr_name_full = writer_df['Idea Text'][ii]\n",
    "    print(curr_name)\n",
    "    t = time.time()\n",
    "    currcol = mydb[curr_name]\n",
    "    y = currcol.find({\"name\": curr_name})\n",
    "    totalarticlen = y.count()\n",
    "    if totalarticlen < 25:\n",
    "        continue\n",
    "    similarity_within_author[curr_name] = {}\n",
    "    baseline_across_author[curr_name] = {}\n",
    "    content_sim = []\n",
    "    style_sim = []\n",
    "    for jj in range(0, n_boot_comp):\n",
    "        curr_idx = random.sample(range(0,totalarticlen),1)\n",
    "        curr_article = y[curr_idx[0]]['article']\n",
    "        tokens = word_tokenize(curr_article)\n",
    "        if len(tokens) < 50: # if fewer than 50 words don't bother\n",
    "            continue\n",
    "        # split article in half - not worrying right now about cutting words in half\n",
    "        first_half = curr_article[0:int(np.floor(len(curr_article)/2))]\n",
    "        second_half = curr_article[int(np.floor(len(curr_article)/2)):]\n",
    "        # calculate similarity between first and second half\n",
    "        content_sim.append(compare_content_two_articles(kv, w2v_df, first_half, second_half))\n",
    "        style_sim.append(compare_style_two_articles(first_half, second_half, writer_feature_subsection))\n",
    "    similarity_within_author[curr_name]['content'] = content_sim\n",
    "    similarity_within_author[curr_name]['style'] = style_sim    \n",
    "    # now for baseline testing\n",
    "    baseline_style = []\n",
    "    baseline_content = []\n",
    "    for j in range(0,n_boot_comp):\n",
    "        new_author = random.sample(writer_df['website_name'].tolist(), 1)[0]\n",
    "        currcol2 = mydb[new_author]\n",
    "        y2 = currcol2.find({\"name\": new_author})\n",
    "        totalarticlen = y2.count()\n",
    "        if totalarticlen == 0:\n",
    "            continue\n",
    "        curr_idx = random.sample(range(0,totalarticlen),1)\n",
    "        curr_article2 = y2[curr_idx[0]]['article']\n",
    "        # now do comps for first and second half\n",
    "        baseline_content.append(compare_content_two_articles(kv, w2v_df, first_half, curr_article2))\n",
    "        baseline_style.append(compare_style_two_articles(first_half, curr_article2, writer_feature_subsection))\n",
    "        baseline_content.append(compare_content_two_articles(kv, w2v_df, second_half, curr_article2))\n",
    "        baseline_style.append(compare_style_two_articles(second_half, curr_article2, writer_feature_subsection))\n",
    "    baseline_across_author[curr_name]['content'] = baseline_content\n",
    "    baseline_across_author[curr_name]['style'] = baseline_style   \n"
   ]
  },
  {
   "cell_type": "code",
   "execution_count": 49,
   "metadata": {},
   "outputs": [
    {
     "name": "stdout",
     "output_type": "stream",
     "text": [
      "33\n"
     ]
    }
   ],
   "source": [
    "rr = writer_df['website_name'].tolist()\n",
    "rr.index('amin-elhassen')\n",
    "for i in range(33,34):\n",
    "    print(i)"
   ]
  },
  {
   "cell_type": "code",
   "execution_count": 51,
   "metadata": {},
   "outputs": [
    {
     "name": "stdout",
     "output_type": "stream",
     "text": [
      "0.8429008206707249\n",
      "0.2959325217782179\n",
      "0.45411984147612233\n",
      "0.04099638822069874\n"
     ]
    }
   ],
   "source": [
    "print(np.nanmean(content_sim))\n",
    "print(np.nanmean(style_sim))\n",
    "print(np.nanmean(baseline_content))\n",
    "print(np.nanmean(baseline_style))"
   ]
  },
  {
   "cell_type": "code",
   "execution_count": 58,
   "metadata": {},
   "outputs": [
    {
     "name": "stdout",
     "output_type": "stream",
     "text": [
      "0.7039741826387454\n",
      "0.9106749535955404\n",
      "-0.024108854120058903\n",
      "0.6175859371203857\n"
     ]
    }
   ],
   "source": [
    "tmpR = 'zachlowe_nba'\n",
    "print(np.nanmean(baseline_across_author[tmpR]['content']))\n",
    "print(np.nanmean(similarity_within_author[tmpR]['content']))\n",
    "print(np.nanmean(baseline_across_author[tmpR]['style']))\n",
    "print(np.nanmean(similarity_within_author[tmpR]['style']))"
   ]
  },
  {
   "cell_type": "code",
   "execution_count": 71,
   "metadata": {},
   "outputs": [
    {
     "name": "stdout",
     "output_type": "stream",
     "text": [
      "amin-elhassen\n",
      "ja-dubin\n",
      "royce-webb\n",
      "jeff-zillgitt\n",
      "jon-krawczynski\n",
      "sam-esfandiari\n",
      "jade-hoye\n",
      "ric-bucher\n",
      "senthil-natarajan\n",
      "kaileigh-brandt\n",
      "trill-withers\n",
      "scott-cacciola\n",
      "albert-nahmad\n",
      "david-morrow\n",
      "peter-vecsey\n",
      "george-rowland\n",
      "editor-dan\n",
      "ti-windisch\n",
      "glory-okoli\n",
      "aaron-bruski\n",
      "paul-centopani\n",
      "stephen-a-smith\n",
      "andré-voigt\n",
      "skip-bayless\n",
      "seb-dumitru\n"
     ]
    },
    {
     "name": "stderr",
     "output_type": "stream",
     "text": [
      "/anaconda3/envs/insight_new/lib/python3.6/site-packages/numpy/lib/function_base.py:4033: RuntimeWarning: All-NaN slice encountered\n",
      "  r = func(a, **kwargs)\n"
     ]
    }
   ],
   "source": [
    "tmpauthorlist = similarity_within_author.keys()\n",
    "style_sim_within = []\n",
    "style_sim_across = []\n",
    "content_sim_within = []\n",
    "content_sim_across = []\n",
    "for ii in similarity_within_author:\n",
    "    try:\n",
    "        content_sim_across.append(np.nanmedian(baseline_across_author[ii]['content']))\n",
    "        content_sim_within.append(np.nanmedian(similarity_within_author[ii]['content']))\n",
    "        style_sim_across.append(np.nanmedian(baseline_across_author[ii]['style']))\n",
    "        style_sim_within.append(np.nanmedian(similarity_within_author[ii]['style']))\n",
    "    except:\n",
    "        print(ii)"
   ]
  },
  {
   "cell_type": "code",
   "execution_count": 73,
   "metadata": {},
   "outputs": [
    {
     "name": "stdout",
     "output_type": "stream",
     "text": [
      "0.599661788548802\n",
      "0.8388880930924403\n",
      "0.028184486626333535\n",
      "0.4689644620952276\n"
     ]
    }
   ],
   "source": [
    "print(np.nanmean(content_sim_across))\n",
    "print(np.nanmean(content_sim_within))\n",
    "print(np.nanmean(style_sim_across))\n",
    "print(np.nanmean(style_sim_within))"
   ]
  },
  {
   "cell_type": "code",
   "execution_count": 74,
   "metadata": {},
   "outputs": [
    {
     "data": {
      "text/plain": [
       "[<matplotlib.lines.Line2D at 0x1a34165828>]"
      ]
     },
     "execution_count": 74,
     "metadata": {},
     "output_type": "execute_result"
    },
    {
     "data": {
      "image/png": "[encoded data removed]",
      "text/plain": [
       "<Figure size 432x288 with 1 Axes>"
      ]
     },
     "metadata": {
      "needs_background": "light"
     },
     "output_type": "display_data"
    }
   ],
   "source": [
    "plt.plot(style_sim_within)"
   ]
  },
  {
   "cell_type": "code",
   "execution_count": null,
   "metadata": {},
   "outputs": [],
   "source": []
  }
 ],
 "metadata": {
  "kernelspec": {
   "display_name": "Python 3",
   "language": "python",
   "name": "python3"
  },
  "language_info": {
   "codemirror_mode": {
    "name": "ipython",
    "version": 3
   },
   "file_extension": ".py",
   "mimetype": "text/x-python",
   "name": "python",
   "nbconvert_exporter": "python",
   "pygments_lexer": "ipython3",
   "version": "3.6.6"
  }
 },
 "nbformat": 4,
 "nbformat_minor": 2
}
