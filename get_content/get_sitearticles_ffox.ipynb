{
 "cells": [
  {
   "cell_type": "code",
   "execution_count": 1,
   "metadata": {},
   "outputs": [],
   "source": [
    "import numpy as np\n",
    "from IPython.core.debugger import set_trace\n",
    "import re\n",
    "import difflib\n",
    "import pandas as pd\n",
    "import matplotlib.pyplot as plt\n",
    "from bs4 import BeautifulSoup\n",
    "import requests\n",
    "import time\n",
    "import random\n",
    "import pickle\n",
    "from lxml.html import fromstring\n",
    "from collections import Counter\n",
    "from requests.packages.urllib3.util import Retry\n",
    "from requests.adapters import HTTPAdapter\n",
    "from requests import Session, exceptions\n",
    "import sys\n",
    "import pymongo\n",
    "from pymongo import MongoClient\n",
    "from selenium import webdriver\n",
    "from selenium.webdriver.common.keys import Keys\n",
    "import re\n",
    "import os"
   ]
  },
  {
   "cell_type": "code",
   "execution_count": 2,
   "metadata": {},
   "outputs": [],
   "source": [
    "# data load\n",
    "with open('/Users/rohanramesh/Documents/Insight/data_bball_writers/Attempt3_mr_scrape.pickle', 'rb') as handle:\n",
    "    scrapevar = pickle.load(handle)"
   ]
  },
  {
   "cell_type": "code",
   "execution_count": 3,
   "metadata": {},
   "outputs": [],
   "source": [
    "# get_proxies():\n",
    "def get_proxies(nprox):\n",
    "    url = 'https://free-proxy-list.net/'\n",
    "    response = requests.get(url)\n",
    "    curr_soup = BeautifulSoup(response.text)\n",
    "    rand_ipadd = []\n",
    "    alllist = curr_soup.findAll(\"tr\")\n",
    "    # alllist[1].next.text\n",
    "    rvec = random.sample(range(1, 15), nprox)\n",
    "    for i in rvec:\n",
    "        rand_ipadd.append((alllist[i].next.text + \":\" + alllist[i].next.next.next.text))\n",
    "    return rand_ipadd\n",
    "\n",
    "def get_user_agents(nagents):\n",
    "    useragent_add = 'https://developers.whatismybrowser.com/useragents/explore/software_type_specific/web-browser/'\n",
    "    page = requests.get(useragent_add)\n",
    "    curr_soup = BeautifulSoup(page.text)\n",
    "    rand_useragents = []\n",
    "    alllist = curr_soup.findAll(\"td\", {\"class\": \"useragent\"})\n",
    "    rvec = random.sample(range(0, 25), nagents)\n",
    "    for i in rvec:\n",
    "        a = alllist[i].find(\"a\")\n",
    "        rand_useragents.append(a.text)\n",
    "    return rand_useragents\n",
    "\n",
    "def build_proxy_agent(proxy_list,user_agent_list):\n",
    "    proxy = random.choice(proxy_list)\n",
    "    http_proxy  = \"http://\" + proxy\n",
    "    https_proxy = \"https://\" + proxy\n",
    "\n",
    "    proxyDict = { \n",
    "                  \"http\"  : http_proxy, \n",
    "                  \"https\" : https_proxy\n",
    "                }\n",
    "    user_agent = random.choice(user_agent_list)\n",
    "    #Set the headers \n",
    "    headers = {'User-Agent': user_agent}\n",
    "    return proxyDict, headers\n",
    "\n",
    "def requests_retry_session(\n",
    "    retries=3,\n",
    "    backoff_factor=0.3,\n",
    "    status_forcelist=(500, 502, 504),\n",
    "    session=None,\n",
    "):\n",
    "    session = session or requests.Session()\n",
    "    retry = Retry(\n",
    "        total=retries,\n",
    "        read=retries,\n",
    "        connect=retries,\n",
    "        backoff_factor=backoff_factor,\n",
    "        status_forcelist=status_forcelist,\n",
    "    )\n",
    "    adapter = HTTPAdapter(max_retries=retry)\n",
    "    session.mount('http://', adapter)\n",
    "    session.mount('https://', adapter)\n",
    "    return session"
   ]
  },
  {
   "cell_type": "code",
   "execution_count": 25,
   "metadata": {},
   "outputs": [
    {
     "name": "stdout",
     "output_type": "stream",
     "text": [
      " BOSTON, MA - MAY 25: Kyrie Irving #2 of the Cleveland Cavaliers and Marcus Smart #36 of the Boston Celtics greet before the game in Game Five of the Eastern Conference Finals of the 2017 NBA Playoffs on May 25, 2017 at the TD Garden in Boston, Massachusetts. NOTE TO USER: User expressly acknowledges and agrees that, by downloading and or using this photograph, User is consenting to the terms and conditions of the Getty Images License Agreement. Mandatory Copyright Notice: Copyright 2017 NBAE (Photo by Brian Babineau/NBAE via Getty Images) Sometimes, the allure of changing scenery can turn out to be nothing more than a hoax. The newness and unfamiliarity that once seemed so appealing unfolds into the same hidden conflicts and particularly unique challenges of old. However, Kyrie Irving’s new home provides him with a distinctly new world of values and responsibilities, features that could make Irving’s change of scenery well worth it. To demonstrate this difference, let’s compare Kyrie Irving with former Celtics point guard Isaiah Thomas. Despite fairly similar skillsets, an unmistakable contrast emerges when analyzing their respective responsibilities on the offensive end last season. Brad Stevens is, of course, at the heart of this calculated approach, and his creativity has been key in helping Thomas reshape his career. Under Stevens, Boston have embraced an offensive attack that revolves around quick decision making and constant fluidity. Boston averaged just 2.56 seconds per touch, the fourth-lowest mark in the NBA. Meanwhile, Irving’s Cavaliers averaged 2.90 seconds per touch, the eight-highest mark in the league. Read More: Khris Middleton thriving with help of Giannis Antetokounmpo But this difference does not necessarily mean that Irving will be forced to give up the ball more quickly than usual. When comparing their time per touch with all of the other starting point guards last season (something I will do for many of the statistics in this article), both Irving (48th percentile) and Thomas (41st percentile) were just slightly below average. However, the difference will likely be felt before Irving even receives the ball. In Boston, Thomas commonly spent a significant amount of time off of the ball. In this role, Thomas zoomed across the court, running off of a variety of screens with the hope of gaining an advantage on the defense. On the other hand, the Cavaliers were more traditional in their approach, as Irving harnessed his ball handling wizardry to jumpstart his team’s offensive attack. The differences in their off-ball movements are captured in the NBA’s speed and distance tracking shown below. Thomas embraced a “do your work early” mentality in Boston, while Irving’s off-ball role was much more relaxed in Cleveland.  And given the difference in how they were used off of the ball, it’s no surprise that this contrast trickled down to their respective play types.  Despite Thomas boasting the same gigantic scoring efficiency on isolations (1.12 points per possession) as Irving, Stevens elected to feature other parts of his point guard’s offensive game. In the Cavaliers’ offense, Irving’s isolation skills were the focal point, as he isolated more than every starting point guard except James Harden. Boston’s offense focused more on handoff situations, a tactic Stevens used to connect various actions and keep the flow of the offense intact. This play type helped Thomas thrive by allowing him to catch the ball going downhill. One of the Celtics’ favorite actions begins with Thomas in the corner, where he receives a down screen followed by a dribble handoff that usually springs him free for a 3-point shot or drive to the basket. Off of the ball, the Celtics capitalized on Thomas’ 3-point shooting ability more than the Cavaliers did with Irving. Although Irving was more than adept in terms of spot-up success (85th percentile in the NBA), it was a much smaller part of his offensive game. And Thomas’ gravity was also used in off-ball screening situations. Take this play for example, where Thomas pitches the ball to Al Horford to initiate the offensive possession. He then gets off-ball screened twice in a matter of just a few seconds, allowing him to gain moment towards the basket, receive a pass and score. Ultimately, the key for the Celtics will be whether or not Stevens can get Irving to buy in on the concept of using more energy off of the ball. Irving’s prospective role is likely a more taxing approach, but it can yield even more positive results in terms of efficiency and production in the end. Source: NBA.com/Stats, Basketball-Reference \n"
     ]
    }
   ],
   "source": [
    "article_url = scrapevar['links']['nick-sciria'][1]\n",
    "# can run headless\n",
    "# page = requests_retry_session(retries=10).get(\n",
    "#     article_url, timeout=10)\n",
    "reader_header = 'about:reader?url='\n",
    "\n",
    "# create a new Firefox session\n",
    "driver = webdriver.Firefox()\n",
    "driver.implicitly_wait(30)\n",
    "driver.get(reader_header + article_url)\n",
    "time.sleep(1)\n",
    "soup_level1=BeautifulSoup(driver.page_source)\n",
    "textsection = soup_level1.find(\"div\", {\"class\": \"content\"})\n",
    "pgraphs = textsection.findAll(\"p\")\n",
    "alltext = ''\n",
    "for i in pgraphs:\n",
    "    alltext = alltext + i.text + ' '\n",
    "print(alltext)\n",
    "driver.close()"
   ]
  },
  {
   "cell_type": "code",
   "execution_count": 23,
   "metadata": {},
   "outputs": [
    {
     "name": "stdout",
     "output_type": "stream",
     "text": [
      "https://bleacherreport.com/articles/2780278-still-in-championship-mode-after-frustrating-finals-lebrons-future-is-clear\n"
     ]
    }
   ],
   "source": [
    "print(article_url)"
   ]
  },
  {
   "cell_type": "code",
   "execution_count": 15,
   "metadata": {},
   "outputs": [],
   "source": [
    "driver.close()"
   ]
  },
  {
   "cell_type": "code",
   "execution_count": 6,
   "metadata": {},
   "outputs": [
    {
     "name": "stdout",
     "output_type": "stream",
     "text": [
      "about:reader?url=http://www.espn.com/blog/truehoop/post/_/id/56995/memphis-at-clippers-game-2-five-things-to-watch\n"
     ]
    },
    {
     "ename": "InvalidSchema",
     "evalue": "No connection adapters were found for 'about:reader?url=http://www.espn.com/blog/truehoop/post/_/id/56995/memphis-at-clippers-game-2-five-things-to-watch'",
     "output_type": "error",
     "traceback": [
      "\u001b[0;31m---------------------------------------------------------------------------\u001b[0m",
      "\u001b[0;31mInvalidSchema\u001b[0m                             Traceback (most recent call last)",
      "\u001b[0;32m<ipython-input-6-a3d8c42cbc39>\u001b[0m in \u001b[0;36m<module>\u001b[0;34m()\u001b[0m\n\u001b[1;32m      6\u001b[0m \u001b[0mprint\u001b[0m\u001b[0;34m(\u001b[0m\u001b[0mreader_header\u001b[0m \u001b[0;34m+\u001b[0m \u001b[0marticle_url\u001b[0m\u001b[0;34m)\u001b[0m\u001b[0;34m\u001b[0m\u001b[0m\n\u001b[1;32m      7\u001b[0m page = requests_retry_session(retries=10).get(\n\u001b[0;32m----> 8\u001b[0;31m                 reader_header + article_url,timeout=10)\n\u001b[0m\u001b[1;32m      9\u001b[0m \u001b[0;31m# page = requests.get(reader_header + article_url)\u001b[0m\u001b[0;34m\u001b[0m\u001b[0;34m\u001b[0m\u001b[0m\n\u001b[1;32m     10\u001b[0m \u001b[0;31m# curr_soup = BeautifulSoup(page.text)\u001b[0m\u001b[0;34m\u001b[0m\u001b[0;34m\u001b[0m\u001b[0m\n",
      "\u001b[0;32m/anaconda3/envs/insight_new/lib/python3.6/site-packages/requests/sessions.py\u001b[0m in \u001b[0;36mget\u001b[0;34m(self, url, **kwargs)\u001b[0m\n\u001b[1;32m    523\u001b[0m \u001b[0;34m\u001b[0m\u001b[0m\n\u001b[1;32m    524\u001b[0m         \u001b[0mkwargs\u001b[0m\u001b[0;34m.\u001b[0m\u001b[0msetdefault\u001b[0m\u001b[0;34m(\u001b[0m\u001b[0;34m'allow_redirects'\u001b[0m\u001b[0;34m,\u001b[0m \u001b[0;32mTrue\u001b[0m\u001b[0;34m)\u001b[0m\u001b[0;34m\u001b[0m\u001b[0m\n\u001b[0;32m--> 525\u001b[0;31m         \u001b[0;32mreturn\u001b[0m \u001b[0mself\u001b[0m\u001b[0;34m.\u001b[0m\u001b[0mrequest\u001b[0m\u001b[0;34m(\u001b[0m\u001b[0;34m'GET'\u001b[0m\u001b[0;34m,\u001b[0m \u001b[0murl\u001b[0m\u001b[0;34m,\u001b[0m \u001b[0;34m**\u001b[0m\u001b[0mkwargs\u001b[0m\u001b[0;34m)\u001b[0m\u001b[0;34m\u001b[0m\u001b[0m\n\u001b[0m\u001b[1;32m    526\u001b[0m \u001b[0;34m\u001b[0m\u001b[0m\n\u001b[1;32m    527\u001b[0m     \u001b[0;32mdef\u001b[0m \u001b[0moptions\u001b[0m\u001b[0;34m(\u001b[0m\u001b[0mself\u001b[0m\u001b[0;34m,\u001b[0m \u001b[0murl\u001b[0m\u001b[0;34m,\u001b[0m \u001b[0;34m**\u001b[0m\u001b[0mkwargs\u001b[0m\u001b[0;34m)\u001b[0m\u001b[0;34m:\u001b[0m\u001b[0;34m\u001b[0m\u001b[0m\n",
      "\u001b[0;32m/anaconda3/envs/insight_new/lib/python3.6/site-packages/requests/sessions.py\u001b[0m in \u001b[0;36mrequest\u001b[0;34m(self, method, url, params, data, headers, cookies, files, auth, timeout, allow_redirects, proxies, hooks, stream, verify, cert, json)\u001b[0m\n\u001b[1;32m    510\u001b[0m         }\n\u001b[1;32m    511\u001b[0m         \u001b[0msend_kwargs\u001b[0m\u001b[0;34m.\u001b[0m\u001b[0mupdate\u001b[0m\u001b[0;34m(\u001b[0m\u001b[0msettings\u001b[0m\u001b[0;34m)\u001b[0m\u001b[0;34m\u001b[0m\u001b[0m\n\u001b[0;32m--> 512\u001b[0;31m         \u001b[0mresp\u001b[0m \u001b[0;34m=\u001b[0m \u001b[0mself\u001b[0m\u001b[0;34m.\u001b[0m\u001b[0msend\u001b[0m\u001b[0;34m(\u001b[0m\u001b[0mprep\u001b[0m\u001b[0;34m,\u001b[0m \u001b[0;34m**\u001b[0m\u001b[0msend_kwargs\u001b[0m\u001b[0;34m)\u001b[0m\u001b[0;34m\u001b[0m\u001b[0m\n\u001b[0m\u001b[1;32m    513\u001b[0m \u001b[0;34m\u001b[0m\u001b[0m\n\u001b[1;32m    514\u001b[0m         \u001b[0;32mreturn\u001b[0m \u001b[0mresp\u001b[0m\u001b[0;34m\u001b[0m\u001b[0m\n",
      "\u001b[0;32m/anaconda3/envs/insight_new/lib/python3.6/site-packages/requests/sessions.py\u001b[0m in \u001b[0;36msend\u001b[0;34m(self, request, **kwargs)\u001b[0m\n\u001b[1;32m    614\u001b[0m \u001b[0;34m\u001b[0m\u001b[0m\n\u001b[1;32m    615\u001b[0m         \u001b[0;31m# Get the appropriate adapter to use\u001b[0m\u001b[0;34m\u001b[0m\u001b[0;34m\u001b[0m\u001b[0m\n\u001b[0;32m--> 616\u001b[0;31m         \u001b[0madapter\u001b[0m \u001b[0;34m=\u001b[0m \u001b[0mself\u001b[0m\u001b[0;34m.\u001b[0m\u001b[0mget_adapter\u001b[0m\u001b[0;34m(\u001b[0m\u001b[0murl\u001b[0m\u001b[0;34m=\u001b[0m\u001b[0mrequest\u001b[0m\u001b[0;34m.\u001b[0m\u001b[0murl\u001b[0m\u001b[0;34m)\u001b[0m\u001b[0;34m\u001b[0m\u001b[0m\n\u001b[0m\u001b[1;32m    617\u001b[0m \u001b[0;34m\u001b[0m\u001b[0m\n\u001b[1;32m    618\u001b[0m         \u001b[0;31m# Start time (approximately) of the request\u001b[0m\u001b[0;34m\u001b[0m\u001b[0;34m\u001b[0m\u001b[0m\n",
      "\u001b[0;32m/anaconda3/envs/insight_new/lib/python3.6/site-packages/requests/sessions.py\u001b[0m in \u001b[0;36mget_adapter\u001b[0;34m(self, url)\u001b[0m\n\u001b[1;32m    705\u001b[0m \u001b[0;34m\u001b[0m\u001b[0m\n\u001b[1;32m    706\u001b[0m         \u001b[0;31m# Nothing matches :-/\u001b[0m\u001b[0;34m\u001b[0m\u001b[0;34m\u001b[0m\u001b[0m\n\u001b[0;32m--> 707\u001b[0;31m         \u001b[0;32mraise\u001b[0m \u001b[0mInvalidSchema\u001b[0m\u001b[0;34m(\u001b[0m\u001b[0;34m\"No connection adapters were found for '%s'\"\u001b[0m \u001b[0;34m%\u001b[0m \u001b[0murl\u001b[0m\u001b[0;34m)\u001b[0m\u001b[0;34m\u001b[0m\u001b[0m\n\u001b[0m\u001b[1;32m    708\u001b[0m \u001b[0;34m\u001b[0m\u001b[0m\n\u001b[1;32m    709\u001b[0m     \u001b[0;32mdef\u001b[0m \u001b[0mclose\u001b[0m\u001b[0;34m(\u001b[0m\u001b[0mself\u001b[0m\u001b[0;34m)\u001b[0m\u001b[0;34m:\u001b[0m\u001b[0;34m\u001b[0m\u001b[0m\n",
      "\u001b[0;31mInvalidSchema\u001b[0m: No connection adapters were found for 'about:reader?url=http://www.espn.com/blog/truehoop/post/_/id/56995/memphis-at-clippers-game-2-five-things-to-watch'"
     ]
    }
   ],
   "source": [
    "# attempt to pull espn article\n",
    "article_url = scrapevar['links']['kevin-arnovitz'][6]\n",
    "# page = requests_retry_session(retries=10).get(\n",
    "#     article_url, timeout=10)\n",
    "reader_header = 'about:reader?url='\n",
    "print(reader_header + article_url)\n",
    "page = requests_retry_session(retries=10).get(\n",
    "                reader_header + article_url,timeout=10)\n",
    "# page = requests.get(reader_header + article_url)\n",
    "# curr_soup = BeautifulSoup(page.text)\n",
    "# textcontainer = curr_soup.find(\"article\", {\"class\": \"article\"})\n",
    "# textsection = textcontainer.find(\"div\", {\"class\": \"article-body\"})\n",
    "# pgraphs = textsection.findAll(\"p\")\n",
    "# alltext = ''\n",
    "# for i in pgraphs:\n",
    "#     alltext = alltext + i.text + ' '\n",
    "# print(alltext)"
   ]
  },
  {
   "cell_type": "code",
   "execution_count": null,
   "metadata": {},
   "outputs": [],
   "source": []
  }
 ],
 "metadata": {
  "kernelspec": {
   "display_name": "Python 3",
   "language": "python",
   "name": "python3"
  },
  "language_info": {
   "codemirror_mode": {
    "name": "ipython",
    "version": 3
   },
   "file_extension": ".py",
   "mimetype": "text/x-python",
   "name": "python",
   "nbconvert_exporter": "python",
   "pygments_lexer": "ipython3",
   "version": "3.6.6"
  }
 },
 "nbformat": 4,
 "nbformat_minor": 2
}
